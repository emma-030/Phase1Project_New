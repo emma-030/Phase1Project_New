{
 "cells": [
  {
   "cell_type": "markdown",
   "id": "70297edc",
   "metadata": {},
   "source": [
    "# Film Industry Data Analysis for Microsoft Movie Studio"
   ]
  },
  {
   "cell_type": "markdown",
   "id": "68293f7c",
   "metadata": {},
   "source": [
    "## 1. Business Understanding"
   ]
  },
  {
   "cell_type": "markdown",
   "id": "75510a1a",
   "metadata": {},
   "source": [
    "## 1.1 Problem Statement "
   ]
  },
  {
   "cell_type": "markdown",
   "id": "2821d4e2",
   "metadata": {},
   "source": [
    "In its continued growth, Microsoft has seen a business opportunity in the film industry, prompting the company to create the Microsoft Movie Studio(MMS) business segment. The head of MMS is looking for data centric insights from the film industry to aid in decision making on which films MMS should focus on to ensure business success. Microsoft has charged us to carry out exploratory data analyis on the film industry and come up with three main recommendations that will ensure MMS business success."
   ]
  },
  {
   "cell_type": "markdown",
   "id": "21a1faba",
   "metadata": {},
   "source": [
    "## 1.2 Project Objectives"
   ]
  },
  {
   "cell_type": "markdown",
   "id": "24c66ebc",
   "metadata": {},
   "source": [
    "* Analyze film industry data and generate insights on best performing movies and their drivers\n",
    "* Provide top recommendations on films that Microsoft can focus on"
   ]
  },
  {
   "cell_type": "markdown",
   "id": "856ff2ca",
   "metadata": {},
   "source": [
    "## 1.3 Context - Movie Industry Overview"
   ]
  },
  {
   "cell_type": "markdown",
   "id": "a2324e90",
   "metadata": {},
   "source": [
    "The movie industry, also known as the film industry, is a vast sector that encompasses the creation, production, distribution, and exhibition of movies. It is a global industry with a rich history and a significant cultural and economic impact. In 2019 the industy, the global box office generated $42.5B. Revenues in this industry can vary significantly depending on factors such as box office performance, home video sales, streaming rights, merchandising and licensing deals. \n",
    "\n",
    "The success of a movie depends on many factors, key of which include:\n",
    "* Story and content - captivating story lines\n",
    "* Cast and crew - i.e. talented actors, directors, writers, & other creatives\n",
    "* Marketing and distribution including effective marketing, strategic release dates, and wide distribution networks to reach target audiences\n",
    "* Critical reception - Positive reviews from critics and word-of-mouth recommendations can help generate buzz and drive audience interest\n",
    "* Genre and audience appeal - Different genres have distinct audience demographics, and understanding the target market is crucial for success\n",
    "\n",
    "The movie industry has seen a revolution in recent times with rise of streaming services. The industry continues to expand globally with enablement of the internet, creating more investiment opportunities. Other technological advancements such as 3D, virtual reality and enhanced sound systems continue to enhance the movie-watching experience, further opening up the market."
   ]
  },
  {
   "cell_type": "markdown",
   "id": "bb36135b",
   "metadata": {},
   "source": [
    "## 2. Data overview"
   ]
  },
  {
   "cell_type": "markdown",
   "id": "43714f10",
   "metadata": {},
   "source": [
    "The data was obtained from various movie websites and the IMDB database. These sources track movie attributes to various degrees e.g., titles, revenues, studios, years of release, movie ratings and other similar information. \n",
    "\n",
    "* [Box Office Mojo](https://www.boxofficemojo.com/)\n",
    "* [IMDB](https://www.imdb.com/)\n",
    "* [Rotten Tomatoes](https://www.rottentomatoes.com/)\n",
    "* [TheMovieDB](https://www.themoviedb.org/)\n",
    "* [The Numbers](https://www.the-numbers.com/)\n",
    "\n",
    "In our analysis,we focussed on identifying and analyzing the five key factors discussed above, as key drivers for movie success. For clarity the factors are: Story & Content, Cast & Crew, Marketing & Distribution, Critical Perception and Genre & Audience Appeal. In abscence of enough data on these key factors, we will relied on box office revenues generated.\n",
    "In accordance to this approach, we observed that data from The MovieDB and The numbers had limited features and contained none of the five movie success factors hence decision to exclude their datasets from the exploratory analysis."
   ]
  },
  {
   "cell_type": "markdown",
   "id": "7b52b2e6",
   "metadata": {},
   "source": [
    "## 3.0 Data Analysis Approach"
   ]
  },
  {
   "cell_type": "markdown",
   "id": "f9f3ed7d",
   "metadata": {},
   "source": [
    "The data analysis phase will involve the following steps:\n",
    "1. Loading the data to pandas and analyzing the dataframes\n",
    "2. Cleaning the data by checking & handling:\n",
    "    * Duplicates\n",
    "    * Missing data\n",
    "    * Anomalies\n",
    "    * Invalid data\n",
    "    * Other additional data cleaning procedures as needed\n",
    "3. Performing exploratory anaysis\n",
    "4. Drawing conclusions\n",
    "5. Making recommendations"
   ]
  },
  {
   "cell_type": "markdown",
   "id": "56904b8a",
   "metadata": {},
   "source": [
    "## 4.0 Loading the Data"
   ]
  },
  {
   "cell_type": "markdown",
   "id": "854a3e90",
   "metadata": {},
   "source": [
    "### 4.1 Importing Libraries"
   ]
  },
  {
   "cell_type": "code",
   "execution_count": 2,
   "id": "c67b1ccd",
   "metadata": {},
   "outputs": [],
   "source": [
    "# Importing required libraries\n",
    "import sqlite3\n",
    "import zipfile\n",
    "import csv\n",
    "import pandas as pd\n",
    "import numpy as np\n",
    "import matplotlib.pyplot as plt\n",
    "\n",
    "%matplotlib inline"
   ]
  },
  {
   "cell_type": "markdown",
   "id": "6b6e5742",
   "metadata": {},
   "source": [
    "### 4.2 Loading the Data & Exploring Dataframes"
   ]
  },
  {
   "cell_type": "markdown",
   "id": "3f99eb57",
   "metadata": {},
   "source": [
    "#### 4.2.1 CSV files"
   ]
  },
  {
   "cell_type": "code",
   "execution_count": 3,
   "id": "9aa792c2",
   "metadata": {},
   "outputs": [],
   "source": [
    "# Extracting zipped file\n",
    "with zipfile.ZipFile(\"phase-1-project master zippedData.zip\") as z:\n",
    "   z.extractall()"
   ]
  },
  {
   "cell_type": "code",
   "execution_count": 4,
   "id": "284bc4b8",
   "metadata": {},
   "outputs": [
    {
     "data": {
      "text/html": [
       "<div>\n",
       "<style scoped>\n",
       "    .dataframe tbody tr th:only-of-type {\n",
       "        vertical-align: middle;\n",
       "    }\n",
       "\n",
       "    .dataframe tbody tr th {\n",
       "        vertical-align: top;\n",
       "    }\n",
       "\n",
       "    .dataframe thead th {\n",
       "        text-align: right;\n",
       "    }\n",
       "</style>\n",
       "<table border=\"1\" class=\"dataframe\">\n",
       "  <thead>\n",
       "    <tr style=\"text-align: right;\">\n",
       "      <th></th>\n",
       "      <th>title</th>\n",
       "      <th>studio</th>\n",
       "      <th>domestic_gross</th>\n",
       "      <th>foreign_gross</th>\n",
       "      <th>year</th>\n",
       "    </tr>\n",
       "  </thead>\n",
       "  <tbody>\n",
       "    <tr>\n",
       "      <th>0</th>\n",
       "      <td>Toy Story 3</td>\n",
       "      <td>BV</td>\n",
       "      <td>415000000.0</td>\n",
       "      <td>652000000</td>\n",
       "      <td>2010</td>\n",
       "    </tr>\n",
       "    <tr>\n",
       "      <th>1</th>\n",
       "      <td>Alice in Wonderland (2010)</td>\n",
       "      <td>BV</td>\n",
       "      <td>334200000.0</td>\n",
       "      <td>691300000</td>\n",
       "      <td>2010</td>\n",
       "    </tr>\n",
       "    <tr>\n",
       "      <th>2</th>\n",
       "      <td>Harry Potter and the Deathly Hallows Part 1</td>\n",
       "      <td>WB</td>\n",
       "      <td>296000000.0</td>\n",
       "      <td>664300000</td>\n",
       "      <td>2010</td>\n",
       "    </tr>\n",
       "    <tr>\n",
       "      <th>3</th>\n",
       "      <td>Inception</td>\n",
       "      <td>WB</td>\n",
       "      <td>292600000.0</td>\n",
       "      <td>535700000</td>\n",
       "      <td>2010</td>\n",
       "    </tr>\n",
       "    <tr>\n",
       "      <th>4</th>\n",
       "      <td>Shrek Forever After</td>\n",
       "      <td>P/DW</td>\n",
       "      <td>238700000.0</td>\n",
       "      <td>513900000</td>\n",
       "      <td>2010</td>\n",
       "    </tr>\n",
       "  </tbody>\n",
       "</table>\n",
       "</div>"
      ],
      "text/plain": [
       "                                         title studio  domestic_gross   \n",
       "0                                  Toy Story 3     BV     415000000.0  \\\n",
       "1                   Alice in Wonderland (2010)     BV     334200000.0   \n",
       "2  Harry Potter and the Deathly Hallows Part 1     WB     296000000.0   \n",
       "3                                    Inception     WB     292600000.0   \n",
       "4                          Shrek Forever After   P/DW     238700000.0   \n",
       "\n",
       "  foreign_gross  year  \n",
       "0     652000000  2010  \n",
       "1     691300000  2010  \n",
       "2     664300000  2010  \n",
       "3     535700000  2010  \n",
       "4     513900000  2010  "
      ]
     },
     "execution_count": 4,
     "metadata": {},
     "output_type": "execute_result"
    }
   ],
   "source": [
    "# Loading csv files using pandas\n",
    "df_bom_movie = pd.read_csv('bom.movie_gross.csv.gz')\n",
    "df_bom_movie.head()"
   ]
  },
  {
   "cell_type": "code",
   "execution_count": 5,
   "id": "c41f8ca4",
   "metadata": {},
   "outputs": [
    {
     "name": "stdout",
     "output_type": "stream",
     "text": [
      "<class 'pandas.core.frame.DataFrame'>\n",
      "RangeIndex: 3387 entries, 0 to 3386\n",
      "Data columns (total 5 columns):\n",
      " #   Column          Non-Null Count  Dtype  \n",
      "---  ------          --------------  -----  \n",
      " 0   title           3387 non-null   object \n",
      " 1   studio          3382 non-null   object \n",
      " 2   domestic_gross  3359 non-null   float64\n",
      " 3   foreign_gross   2037 non-null   object \n",
      " 4   year            3387 non-null   int64  \n",
      "dtypes: float64(1), int64(1), object(3)\n",
      "memory usage: 132.4+ KB\n"
     ]
    }
   ],
   "source": [
    "df_bom_movie.info()"
   ]
  },
  {
   "cell_type": "markdown",
   "id": "7fc95225",
   "metadata": {},
   "source": [
    "##### df_bom_movies observations\n",
    "* They contain domestic and foreign revenues which is a key metric\n",
    "* Studio is potentially a key field to compare revenue by studio\n",
    "* Assumption: Amounts in USD. \n",
    "* Missing the key factors of success i.e. Story & Content, Cast & Crew, Marketing & Distribution, Critical Perception and Genre & Audience Appeal."
   ]
  },
  {
   "cell_type": "code",
   "execution_count": 75,
   "id": "2e0f0379",
   "metadata": {},
   "outputs": [
    {
     "data": {
      "text/html": [
       "<div>\n",
       "<style scoped>\n",
       "    .dataframe tbody tr th:only-of-type {\n",
       "        vertical-align: middle;\n",
       "    }\n",
       "\n",
       "    .dataframe tbody tr th {\n",
       "        vertical-align: top;\n",
       "    }\n",
       "\n",
       "    .dataframe thead th {\n",
       "        text-align: right;\n",
       "    }\n",
       "</style>\n",
       "<table border=\"1\" class=\"dataframe\">\n",
       "  <thead>\n",
       "    <tr style=\"text-align: right;\">\n",
       "      <th></th>\n",
       "      <th>id</th>\n",
       "      <th>synopsis</th>\n",
       "      <th>rating</th>\n",
       "      <th>genre</th>\n",
       "      <th>director</th>\n",
       "      <th>writer</th>\n",
       "      <th>theater_date</th>\n",
       "      <th>dvd_date</th>\n",
       "      <th>currency</th>\n",
       "      <th>box_office</th>\n",
       "      <th>runtime</th>\n",
       "      <th>studio</th>\n",
       "    </tr>\n",
       "  </thead>\n",
       "  <tbody>\n",
       "    <tr>\n",
       "      <th>0</th>\n",
       "      <td>1</td>\n",
       "      <td>This gritty, fast-paced, and innovative police...</td>\n",
       "      <td>R</td>\n",
       "      <td>Action and Adventure|Classics|Drama</td>\n",
       "      <td>William Friedkin</td>\n",
       "      <td>Ernest Tidyman</td>\n",
       "      <td>Oct 9, 1971</td>\n",
       "      <td>Sep 25, 2001</td>\n",
       "      <td>NaN</td>\n",
       "      <td>NaN</td>\n",
       "      <td>104 minutes</td>\n",
       "      <td>NaN</td>\n",
       "    </tr>\n",
       "    <tr>\n",
       "      <th>1</th>\n",
       "      <td>3</td>\n",
       "      <td>New York City, not-too-distant-future: Eric Pa...</td>\n",
       "      <td>R</td>\n",
       "      <td>Drama|Science Fiction and Fantasy</td>\n",
       "      <td>David Cronenberg</td>\n",
       "      <td>David Cronenberg|Don DeLillo</td>\n",
       "      <td>Aug 17, 2012</td>\n",
       "      <td>Jan 1, 2013</td>\n",
       "      <td>$</td>\n",
       "      <td>600,000</td>\n",
       "      <td>108 minutes</td>\n",
       "      <td>Entertainment One</td>\n",
       "    </tr>\n",
       "    <tr>\n",
       "      <th>2</th>\n",
       "      <td>5</td>\n",
       "      <td>Illeana Douglas delivers a superb performance ...</td>\n",
       "      <td>R</td>\n",
       "      <td>Drama|Musical and Performing Arts</td>\n",
       "      <td>Allison Anders</td>\n",
       "      <td>Allison Anders</td>\n",
       "      <td>Sep 13, 1996</td>\n",
       "      <td>Apr 18, 2000</td>\n",
       "      <td>NaN</td>\n",
       "      <td>NaN</td>\n",
       "      <td>116 minutes</td>\n",
       "      <td>NaN</td>\n",
       "    </tr>\n",
       "    <tr>\n",
       "      <th>3</th>\n",
       "      <td>6</td>\n",
       "      <td>Michael Douglas runs afoul of a treacherous su...</td>\n",
       "      <td>R</td>\n",
       "      <td>Drama|Mystery and Suspense</td>\n",
       "      <td>Barry Levinson</td>\n",
       "      <td>Paul Attanasio|Michael Crichton</td>\n",
       "      <td>Dec 9, 1994</td>\n",
       "      <td>Aug 27, 1997</td>\n",
       "      <td>NaN</td>\n",
       "      <td>NaN</td>\n",
       "      <td>128 minutes</td>\n",
       "      <td>NaN</td>\n",
       "    </tr>\n",
       "    <tr>\n",
       "      <th>4</th>\n",
       "      <td>7</td>\n",
       "      <td>NaN</td>\n",
       "      <td>NR</td>\n",
       "      <td>Drama|Romance</td>\n",
       "      <td>Rodney Bennett</td>\n",
       "      <td>Giles Cooper</td>\n",
       "      <td>NaN</td>\n",
       "      <td>NaN</td>\n",
       "      <td>NaN</td>\n",
       "      <td>NaN</td>\n",
       "      <td>200 minutes</td>\n",
       "      <td>NaN</td>\n",
       "    </tr>\n",
       "  </tbody>\n",
       "</table>\n",
       "</div>"
      ],
      "text/plain": [
       "   id                                           synopsis rating   \n",
       "0   1  This gritty, fast-paced, and innovative police...      R  \\\n",
       "1   3  New York City, not-too-distant-future: Eric Pa...      R   \n",
       "2   5  Illeana Douglas delivers a superb performance ...      R   \n",
       "3   6  Michael Douglas runs afoul of a treacherous su...      R   \n",
       "4   7                                                NaN     NR   \n",
       "\n",
       "                                 genre          director   \n",
       "0  Action and Adventure|Classics|Drama  William Friedkin  \\\n",
       "1    Drama|Science Fiction and Fantasy  David Cronenberg   \n",
       "2    Drama|Musical and Performing Arts    Allison Anders   \n",
       "3           Drama|Mystery and Suspense    Barry Levinson   \n",
       "4                        Drama|Romance    Rodney Bennett   \n",
       "\n",
       "                            writer  theater_date      dvd_date currency   \n",
       "0                   Ernest Tidyman   Oct 9, 1971  Sep 25, 2001      NaN  \\\n",
       "1     David Cronenberg|Don DeLillo  Aug 17, 2012   Jan 1, 2013        $   \n",
       "2                   Allison Anders  Sep 13, 1996  Apr 18, 2000      NaN   \n",
       "3  Paul Attanasio|Michael Crichton   Dec 9, 1994  Aug 27, 1997      NaN   \n",
       "4                     Giles Cooper           NaN           NaN      NaN   \n",
       "\n",
       "  box_office      runtime             studio  \n",
       "0        NaN  104 minutes                NaN  \n",
       "1    600,000  108 minutes  Entertainment One  \n",
       "2        NaN  116 minutes                NaN  \n",
       "3        NaN  128 minutes                NaN  \n",
       "4        NaN  200 minutes                NaN  "
      ]
     },
     "execution_count": 75,
     "metadata": {},
     "output_type": "execute_result"
    }
   ],
   "source": [
    "# Loading csv files using pandas\n",
    "df_rt_movie = pd.read_csv('rt.movie_info.tsv.gz', delimiter='\\t')\n",
    "df_rt_movie.head()"
   ]
  },
  {
   "cell_type": "code",
   "execution_count": 76,
   "id": "50be4dcc",
   "metadata": {},
   "outputs": [
    {
     "name": "stdout",
     "output_type": "stream",
     "text": [
      "<class 'pandas.core.frame.DataFrame'>\n",
      "RangeIndex: 1560 entries, 0 to 1559\n",
      "Data columns (total 12 columns):\n",
      " #   Column        Non-Null Count  Dtype \n",
      "---  ------        --------------  ----- \n",
      " 0   id            1560 non-null   int64 \n",
      " 1   synopsis      1498 non-null   object\n",
      " 2   rating        1557 non-null   object\n",
      " 3   genre         1552 non-null   object\n",
      " 4   director      1361 non-null   object\n",
      " 5   writer        1111 non-null   object\n",
      " 6   theater_date  1201 non-null   object\n",
      " 7   dvd_date      1201 non-null   object\n",
      " 8   currency      340 non-null    object\n",
      " 9   box_office    340 non-null    object\n",
      " 10  runtime       1530 non-null   object\n",
      " 11  studio        494 non-null    object\n",
      "dtypes: int64(1), object(11)\n",
      "memory usage: 146.4+ KB\n"
     ]
    }
   ],
   "source": [
    "df_rt_movie.info()"
   ]
  },
  {
   "cell_type": "markdown",
   "id": "edeb446e",
   "metadata": {},
   "source": [
    "#### Observations on df_rt_movie\n",
    "* Contains more attributes. Cast & Crew (i.e Director), Marketing & Distribution (dates of release), Critical Perception and Genre. The Rating column tells of suitable audience i.e. Restricted (R) and NR (Not Rated - for all)\n",
    "* Important to note the some columns are missing values hence need to drop data alot of data. \n",
    "* Next steps: Evaluate if can be merged with other files. Analyze relationship between Director, Genre on Box office revenues.\n"
   ]
  },
  {
   "cell_type": "code",
   "execution_count": 7,
   "id": "fca01c8c",
   "metadata": {},
   "outputs": [
    {
     "data": {
      "text/html": [
       "<div>\n",
       "<style scoped>\n",
       "    .dataframe tbody tr th:only-of-type {\n",
       "        vertical-align: middle;\n",
       "    }\n",
       "\n",
       "    .dataframe tbody tr th {\n",
       "        vertical-align: top;\n",
       "    }\n",
       "\n",
       "    .dataframe thead th {\n",
       "        text-align: right;\n",
       "    }\n",
       "</style>\n",
       "<table border=\"1\" class=\"dataframe\">\n",
       "  <thead>\n",
       "    <tr style=\"text-align: right;\">\n",
       "      <th></th>\n",
       "      <th>id</th>\n",
       "      <th>review</th>\n",
       "      <th>rating</th>\n",
       "      <th>fresh</th>\n",
       "      <th>critic</th>\n",
       "      <th>top_critic</th>\n",
       "      <th>publisher</th>\n",
       "      <th>date</th>\n",
       "    </tr>\n",
       "  </thead>\n",
       "  <tbody>\n",
       "    <tr>\n",
       "      <th>0</th>\n",
       "      <td>3</td>\n",
       "      <td>A distinctly gallows take on contemporary fina...</td>\n",
       "      <td>3/5</td>\n",
       "      <td>fresh</td>\n",
       "      <td>PJ Nabarro</td>\n",
       "      <td>0</td>\n",
       "      <td>Patrick Nabarro</td>\n",
       "      <td>November 10, 2018</td>\n",
       "    </tr>\n",
       "    <tr>\n",
       "      <th>1</th>\n",
       "      <td>3</td>\n",
       "      <td>It's an allegory in search of a meaning that n...</td>\n",
       "      <td>NaN</td>\n",
       "      <td>rotten</td>\n",
       "      <td>Annalee Newitz</td>\n",
       "      <td>0</td>\n",
       "      <td>io9.com</td>\n",
       "      <td>May 23, 2018</td>\n",
       "    </tr>\n",
       "    <tr>\n",
       "      <th>2</th>\n",
       "      <td>3</td>\n",
       "      <td>... life lived in a bubble in financial dealin...</td>\n",
       "      <td>NaN</td>\n",
       "      <td>fresh</td>\n",
       "      <td>Sean Axmaker</td>\n",
       "      <td>0</td>\n",
       "      <td>Stream on Demand</td>\n",
       "      <td>January 4, 2018</td>\n",
       "    </tr>\n",
       "    <tr>\n",
       "      <th>3</th>\n",
       "      <td>3</td>\n",
       "      <td>Continuing along a line introduced in last yea...</td>\n",
       "      <td>NaN</td>\n",
       "      <td>fresh</td>\n",
       "      <td>Daniel Kasman</td>\n",
       "      <td>0</td>\n",
       "      <td>MUBI</td>\n",
       "      <td>November 16, 2017</td>\n",
       "    </tr>\n",
       "    <tr>\n",
       "      <th>4</th>\n",
       "      <td>3</td>\n",
       "      <td>... a perverse twist on neorealism...</td>\n",
       "      <td>NaN</td>\n",
       "      <td>fresh</td>\n",
       "      <td>NaN</td>\n",
       "      <td>0</td>\n",
       "      <td>Cinema Scope</td>\n",
       "      <td>October 12, 2017</td>\n",
       "    </tr>\n",
       "  </tbody>\n",
       "</table>\n",
       "</div>"
      ],
      "text/plain": [
       "   id                                             review rating   fresh   \n",
       "0   3  A distinctly gallows take on contemporary fina...    3/5   fresh  \\\n",
       "1   3  It's an allegory in search of a meaning that n...    NaN  rotten   \n",
       "2   3  ... life lived in a bubble in financial dealin...    NaN   fresh   \n",
       "3   3  Continuing along a line introduced in last yea...    NaN   fresh   \n",
       "4   3             ... a perverse twist on neorealism...     NaN   fresh   \n",
       "\n",
       "           critic  top_critic         publisher               date  \n",
       "0      PJ Nabarro           0   Patrick Nabarro  November 10, 2018  \n",
       "1  Annalee Newitz           0           io9.com       May 23, 2018  \n",
       "2    Sean Axmaker           0  Stream on Demand    January 4, 2018  \n",
       "3   Daniel Kasman           0              MUBI  November 16, 2017  \n",
       "4             NaN           0      Cinema Scope   October 12, 2017  "
      ]
     },
     "execution_count": 7,
     "metadata": {},
     "output_type": "execute_result"
    }
   ],
   "source": [
    "# Loading csv file \n",
    "df_rt_reviews = pd.read_csv('rt.reviews.tsv.gz', delimiter='\\t', encoding='latin-1')\n",
    "df_rt_reviews.head()"
   ]
  },
  {
   "cell_type": "code",
   "execution_count": 39,
   "id": "85d87eba",
   "metadata": {},
   "outputs": [
    {
     "name": "stdout",
     "output_type": "stream",
     "text": [
      "<class 'pandas.core.frame.DataFrame'>\n",
      "RangeIndex: 54432 entries, 0 to 54431\n",
      "Data columns (total 8 columns):\n",
      " #   Column      Non-Null Count  Dtype \n",
      "---  ------      --------------  ----- \n",
      " 0   id          54432 non-null  int64 \n",
      " 1   review      48869 non-null  object\n",
      " 2   rating      40915 non-null  object\n",
      " 3   fresh       54432 non-null  object\n",
      " 4   critic      51710 non-null  object\n",
      " 5   top_critic  54432 non-null  int64 \n",
      " 6   publisher   54123 non-null  object\n",
      " 7   date        54432 non-null  object\n",
      "dtypes: int64(2), object(6)\n",
      "memory usage: 3.3+ MB\n"
     ]
    }
   ],
   "source": [
    "df_rt_reviews.info()"
   ]
  },
  {
   "cell_type": "markdown",
   "id": "394e4320",
   "metadata": {},
   "source": [
    "#### Observations on df_rt_reviews\n",
    "* It seems df_rt_reviews and df_rt_movies can be merged using id column. Assumption here is that the Id column is a unique identifier of a movie in question in the Rotten Tomatoes site."
   ]
  },
  {
   "cell_type": "code",
   "execution_count": 48,
   "id": "0b5f3507",
   "metadata": {},
   "outputs": [
    {
     "data": {
      "text/html": [
       "<div>\n",
       "<style scoped>\n",
       "    .dataframe tbody tr th:only-of-type {\n",
       "        vertical-align: middle;\n",
       "    }\n",
       "\n",
       "    .dataframe tbody tr th {\n",
       "        vertical-align: top;\n",
       "    }\n",
       "\n",
       "    .dataframe thead th {\n",
       "        text-align: right;\n",
       "    }\n",
       "</style>\n",
       "<table border=\"1\" class=\"dataframe\">\n",
       "  <thead>\n",
       "    <tr style=\"text-align: right;\">\n",
       "      <th></th>\n",
       "      <th>id</th>\n",
       "      <th>review</th>\n",
       "      <th>rating_x</th>\n",
       "      <th>fresh</th>\n",
       "      <th>critic</th>\n",
       "      <th>top_critic</th>\n",
       "      <th>publisher</th>\n",
       "      <th>date</th>\n",
       "      <th>synopsis</th>\n",
       "      <th>rating_y</th>\n",
       "      <th>genre</th>\n",
       "      <th>director</th>\n",
       "      <th>writer</th>\n",
       "      <th>theater_date</th>\n",
       "      <th>dvd_date</th>\n",
       "      <th>currency</th>\n",
       "      <th>box_office</th>\n",
       "      <th>runtime</th>\n",
       "      <th>studio</th>\n",
       "    </tr>\n",
       "  </thead>\n",
       "  <tbody>\n",
       "    <tr>\n",
       "      <th>54427</th>\n",
       "      <td>2000</td>\n",
       "      <td>The real charm of this trifle is the deadpan c...</td>\n",
       "      <td>NaN</td>\n",
       "      <td>fresh</td>\n",
       "      <td>Laura Sinagra</td>\n",
       "      <td>1</td>\n",
       "      <td>Village Voice</td>\n",
       "      <td>September 24, 2002</td>\n",
       "      <td>Suspended from the force, Paris cop Hubert is ...</td>\n",
       "      <td>R</td>\n",
       "      <td>Action and Adventure|Art House and Internation...</td>\n",
       "      <td>NaN</td>\n",
       "      <td>Luc Besson</td>\n",
       "      <td>Sep 27, 2001</td>\n",
       "      <td>Feb 11, 2003</td>\n",
       "      <td>NaN</td>\n",
       "      <td>NaN</td>\n",
       "      <td>94 minutes</td>\n",
       "      <td>Columbia Pictures</td>\n",
       "    </tr>\n",
       "    <tr>\n",
       "      <th>54428</th>\n",
       "      <td>2000</td>\n",
       "      <td>NaN</td>\n",
       "      <td>1/5</td>\n",
       "      <td>rotten</td>\n",
       "      <td>Michael Szymanski</td>\n",
       "      <td>0</td>\n",
       "      <td>Zap2it.com</td>\n",
       "      <td>September 21, 2005</td>\n",
       "      <td>Suspended from the force, Paris cop Hubert is ...</td>\n",
       "      <td>R</td>\n",
       "      <td>Action and Adventure|Art House and Internation...</td>\n",
       "      <td>NaN</td>\n",
       "      <td>Luc Besson</td>\n",
       "      <td>Sep 27, 2001</td>\n",
       "      <td>Feb 11, 2003</td>\n",
       "      <td>NaN</td>\n",
       "      <td>NaN</td>\n",
       "      <td>94 minutes</td>\n",
       "      <td>Columbia Pictures</td>\n",
       "    </tr>\n",
       "    <tr>\n",
       "      <th>54429</th>\n",
       "      <td>2000</td>\n",
       "      <td>NaN</td>\n",
       "      <td>2/5</td>\n",
       "      <td>rotten</td>\n",
       "      <td>Emanuel Levy</td>\n",
       "      <td>0</td>\n",
       "      <td>EmanuelLevy.Com</td>\n",
       "      <td>July 17, 2005</td>\n",
       "      <td>Suspended from the force, Paris cop Hubert is ...</td>\n",
       "      <td>R</td>\n",
       "      <td>Action and Adventure|Art House and Internation...</td>\n",
       "      <td>NaN</td>\n",
       "      <td>Luc Besson</td>\n",
       "      <td>Sep 27, 2001</td>\n",
       "      <td>Feb 11, 2003</td>\n",
       "      <td>NaN</td>\n",
       "      <td>NaN</td>\n",
       "      <td>94 minutes</td>\n",
       "      <td>Columbia Pictures</td>\n",
       "    </tr>\n",
       "    <tr>\n",
       "      <th>54430</th>\n",
       "      <td>2000</td>\n",
       "      <td>NaN</td>\n",
       "      <td>2.5/5</td>\n",
       "      <td>rotten</td>\n",
       "      <td>Christopher Null</td>\n",
       "      <td>0</td>\n",
       "      <td>Filmcritic.com</td>\n",
       "      <td>September 7, 2003</td>\n",
       "      <td>Suspended from the force, Paris cop Hubert is ...</td>\n",
       "      <td>R</td>\n",
       "      <td>Action and Adventure|Art House and Internation...</td>\n",
       "      <td>NaN</td>\n",
       "      <td>Luc Besson</td>\n",
       "      <td>Sep 27, 2001</td>\n",
       "      <td>Feb 11, 2003</td>\n",
       "      <td>NaN</td>\n",
       "      <td>NaN</td>\n",
       "      <td>94 minutes</td>\n",
       "      <td>Columbia Pictures</td>\n",
       "    </tr>\n",
       "    <tr>\n",
       "      <th>54431</th>\n",
       "      <td>2000</td>\n",
       "      <td>NaN</td>\n",
       "      <td>3/5</td>\n",
       "      <td>fresh</td>\n",
       "      <td>Nicolas Lacroix</td>\n",
       "      <td>0</td>\n",
       "      <td>Showbizz.net</td>\n",
       "      <td>November 12, 2002</td>\n",
       "      <td>Suspended from the force, Paris cop Hubert is ...</td>\n",
       "      <td>R</td>\n",
       "      <td>Action and Adventure|Art House and Internation...</td>\n",
       "      <td>NaN</td>\n",
       "      <td>Luc Besson</td>\n",
       "      <td>Sep 27, 2001</td>\n",
       "      <td>Feb 11, 2003</td>\n",
       "      <td>NaN</td>\n",
       "      <td>NaN</td>\n",
       "      <td>94 minutes</td>\n",
       "      <td>Columbia Pictures</td>\n",
       "    </tr>\n",
       "  </tbody>\n",
       "</table>\n",
       "</div>"
      ],
      "text/plain": [
       "         id                                             review rating_x   \n",
       "54427  2000  The real charm of this trifle is the deadpan c...      NaN  \\\n",
       "54428  2000                                                NaN      1/5   \n",
       "54429  2000                                                NaN      2/5   \n",
       "54430  2000                                                NaN    2.5/5   \n",
       "54431  2000                                                NaN      3/5   \n",
       "\n",
       "        fresh             critic  top_critic        publisher   \n",
       "54427   fresh      Laura Sinagra           1    Village Voice  \\\n",
       "54428  rotten  Michael Szymanski           0       Zap2it.com   \n",
       "54429  rotten       Emanuel Levy           0  EmanuelLevy.Com   \n",
       "54430  rotten   Christopher Null           0   Filmcritic.com   \n",
       "54431   fresh    Nicolas Lacroix           0     Showbizz.net   \n",
       "\n",
       "                     date                                           synopsis   \n",
       "54427  September 24, 2002  Suspended from the force, Paris cop Hubert is ...  \\\n",
       "54428  September 21, 2005  Suspended from the force, Paris cop Hubert is ...   \n",
       "54429       July 17, 2005  Suspended from the force, Paris cop Hubert is ...   \n",
       "54430   September 7, 2003  Suspended from the force, Paris cop Hubert is ...   \n",
       "54431   November 12, 2002  Suspended from the force, Paris cop Hubert is ...   \n",
       "\n",
       "      rating_y                                              genre director   \n",
       "54427        R  Action and Adventure|Art House and Internation...      NaN  \\\n",
       "54428        R  Action and Adventure|Art House and Internation...      NaN   \n",
       "54429        R  Action and Adventure|Art House and Internation...      NaN   \n",
       "54430        R  Action and Adventure|Art House and Internation...      NaN   \n",
       "54431        R  Action and Adventure|Art House and Internation...      NaN   \n",
       "\n",
       "           writer  theater_date      dvd_date currency box_office     runtime   \n",
       "54427  Luc Besson  Sep 27, 2001  Feb 11, 2003      NaN        NaN  94 minutes  \\\n",
       "54428  Luc Besson  Sep 27, 2001  Feb 11, 2003      NaN        NaN  94 minutes   \n",
       "54429  Luc Besson  Sep 27, 2001  Feb 11, 2003      NaN        NaN  94 minutes   \n",
       "54430  Luc Besson  Sep 27, 2001  Feb 11, 2003      NaN        NaN  94 minutes   \n",
       "54431  Luc Besson  Sep 27, 2001  Feb 11, 2003      NaN        NaN  94 minutes   \n",
       "\n",
       "                  studio  \n",
       "54427  Columbia Pictures  \n",
       "54428  Columbia Pictures  \n",
       "54429  Columbia Pictures  \n",
       "54430  Columbia Pictures  \n",
       "54431  Columbia Pictures  "
      ]
     },
     "execution_count": 48,
     "metadata": {},
     "output_type": "execute_result"
    }
   ],
   "source": [
    "# Merging df_rt_reviews and df_rt_movie \n",
    "merged_df_rt = pd.merge(df_rt_reviews, df_rt_movie, on='id')\n",
    "merged_df_rt.tail()"
   ]
  },
  {
   "cell_type": "markdown",
   "id": "312072d2",
   "metadata": {},
   "source": [
    "Observation on merged_df_rt\n",
    "* Provides more fields in one file hence more analysis."
   ]
  },
  {
   "cell_type": "code",
   "execution_count": 50,
   "id": "7d4e04fb",
   "metadata": {},
   "outputs": [
    {
     "name": "stdout",
     "output_type": "stream",
     "text": [
      "<class 'pandas.core.frame.DataFrame'>\n",
      "RangeIndex: 54432 entries, 0 to 54431\n",
      "Data columns (total 19 columns):\n",
      " #   Column        Non-Null Count  Dtype \n",
      "---  ------        --------------  ----- \n",
      " 0   id            54432 non-null  int64 \n",
      " 1   review        48869 non-null  object\n",
      " 2   rating_x      40915 non-null  object\n",
      " 3   fresh         54432 non-null  object\n",
      " 4   critic        51710 non-null  object\n",
      " 5   top_critic    54432 non-null  int64 \n",
      " 6   publisher     54123 non-null  object\n",
      " 7   date          54432 non-null  object\n",
      " 8   synopsis      54300 non-null  object\n",
      " 9   rating_y      54346 non-null  object\n",
      " 10  genre         54345 non-null  object\n",
      " 11  director      48992 non-null  object\n",
      " 12  writer        45206 non-null  object\n",
      " 13  theater_date  53206 non-null  object\n",
      " 14  dvd_date      53206 non-null  object\n",
      " 15  currency      33310 non-null  object\n",
      " 16  box_office    33310 non-null  object\n",
      " 17  runtime       53594 non-null  object\n",
      " 18  studio        40125 non-null  object\n",
      "dtypes: int64(2), object(17)\n",
      "memory usage: 7.9+ MB\n"
     ]
    }
   ],
   "source": [
    "merged_df_rt.info()"
   ]
  },
  {
   "cell_type": "code",
   "execution_count": 40,
   "id": "db397b89",
   "metadata": {},
   "outputs": [
    {
     "data": {
      "text/html": [
       "<div>\n",
       "<style scoped>\n",
       "    .dataframe tbody tr th:only-of-type {\n",
       "        vertical-align: middle;\n",
       "    }\n",
       "\n",
       "    .dataframe tbody tr th {\n",
       "        vertical-align: top;\n",
       "    }\n",
       "\n",
       "    .dataframe thead th {\n",
       "        text-align: right;\n",
       "    }\n",
       "</style>\n",
       "<table border=\"1\" class=\"dataframe\">\n",
       "  <thead>\n",
       "    <tr style=\"text-align: right;\">\n",
       "      <th></th>\n",
       "      <th>Unnamed: 0</th>\n",
       "      <th>genre_ids</th>\n",
       "      <th>id</th>\n",
       "      <th>original_language</th>\n",
       "      <th>original_title</th>\n",
       "      <th>popularity</th>\n",
       "      <th>release_date</th>\n",
       "      <th>title</th>\n",
       "      <th>vote_average</th>\n",
       "      <th>vote_count</th>\n",
       "    </tr>\n",
       "  </thead>\n",
       "  <tbody>\n",
       "    <tr>\n",
       "      <th>0</th>\n",
       "      <td>0</td>\n",
       "      <td>[12, 14, 10751]</td>\n",
       "      <td>12444</td>\n",
       "      <td>en</td>\n",
       "      <td>Harry Potter and the Deathly Hallows: Part 1</td>\n",
       "      <td>33.533</td>\n",
       "      <td>2010-11-19</td>\n",
       "      <td>Harry Potter and the Deathly Hallows: Part 1</td>\n",
       "      <td>7.7</td>\n",
       "      <td>10788</td>\n",
       "    </tr>\n",
       "    <tr>\n",
       "      <th>1</th>\n",
       "      <td>1</td>\n",
       "      <td>[14, 12, 16, 10751]</td>\n",
       "      <td>10191</td>\n",
       "      <td>en</td>\n",
       "      <td>How to Train Your Dragon</td>\n",
       "      <td>28.734</td>\n",
       "      <td>2010-03-26</td>\n",
       "      <td>How to Train Your Dragon</td>\n",
       "      <td>7.7</td>\n",
       "      <td>7610</td>\n",
       "    </tr>\n",
       "    <tr>\n",
       "      <th>2</th>\n",
       "      <td>2</td>\n",
       "      <td>[12, 28, 878]</td>\n",
       "      <td>10138</td>\n",
       "      <td>en</td>\n",
       "      <td>Iron Man 2</td>\n",
       "      <td>28.515</td>\n",
       "      <td>2010-05-07</td>\n",
       "      <td>Iron Man 2</td>\n",
       "      <td>6.8</td>\n",
       "      <td>12368</td>\n",
       "    </tr>\n",
       "    <tr>\n",
       "      <th>3</th>\n",
       "      <td>3</td>\n",
       "      <td>[16, 35, 10751]</td>\n",
       "      <td>862</td>\n",
       "      <td>en</td>\n",
       "      <td>Toy Story</td>\n",
       "      <td>28.005</td>\n",
       "      <td>1995-11-22</td>\n",
       "      <td>Toy Story</td>\n",
       "      <td>7.9</td>\n",
       "      <td>10174</td>\n",
       "    </tr>\n",
       "    <tr>\n",
       "      <th>4</th>\n",
       "      <td>4</td>\n",
       "      <td>[28, 878, 12]</td>\n",
       "      <td>27205</td>\n",
       "      <td>en</td>\n",
       "      <td>Inception</td>\n",
       "      <td>27.920</td>\n",
       "      <td>2010-07-16</td>\n",
       "      <td>Inception</td>\n",
       "      <td>8.3</td>\n",
       "      <td>22186</td>\n",
       "    </tr>\n",
       "  </tbody>\n",
       "</table>\n",
       "</div>"
      ],
      "text/plain": [
       "   Unnamed: 0            genre_ids     id original_language   \n",
       "0           0      [12, 14, 10751]  12444                en  \\\n",
       "1           1  [14, 12, 16, 10751]  10191                en   \n",
       "2           2        [12, 28, 878]  10138                en   \n",
       "3           3      [16, 35, 10751]    862                en   \n",
       "4           4        [28, 878, 12]  27205                en   \n",
       "\n",
       "                                 original_title  popularity release_date   \n",
       "0  Harry Potter and the Deathly Hallows: Part 1      33.533   2010-11-19  \\\n",
       "1                      How to Train Your Dragon      28.734   2010-03-26   \n",
       "2                                    Iron Man 2      28.515   2010-05-07   \n",
       "3                                     Toy Story      28.005   1995-11-22   \n",
       "4                                     Inception      27.920   2010-07-16   \n",
       "\n",
       "                                          title  vote_average  vote_count  \n",
       "0  Harry Potter and the Deathly Hallows: Part 1           7.7       10788  \n",
       "1                      How to Train Your Dragon           7.7        7610  \n",
       "2                                    Iron Man 2           6.8       12368  \n",
       "3                                     Toy Story           7.9       10174  \n",
       "4                                     Inception           8.3       22186  "
      ]
     },
     "execution_count": 40,
     "metadata": {},
     "output_type": "execute_result"
    }
   ],
   "source": [
    "# Loading csv files using pandas\n",
    "df_tmdb_movie = pd.read_csv('tmdb.movies.csv.gz', delimiter=',')\n",
    "df_tmdb_movie.head()\n"
   ]
  },
  {
   "cell_type": "code",
   "execution_count": 41,
   "id": "f21925a0",
   "metadata": {},
   "outputs": [
    {
     "name": "stdout",
     "output_type": "stream",
     "text": [
      "<class 'pandas.core.frame.DataFrame'>\n",
      "RangeIndex: 26517 entries, 0 to 26516\n",
      "Data columns (total 10 columns):\n",
      " #   Column             Non-Null Count  Dtype  \n",
      "---  ------             --------------  -----  \n",
      " 0   Unnamed: 0         26517 non-null  int64  \n",
      " 1   genre_ids          26517 non-null  object \n",
      " 2   id                 26517 non-null  int64  \n",
      " 3   original_language  26517 non-null  object \n",
      " 4   original_title     26517 non-null  object \n",
      " 5   popularity         26517 non-null  float64\n",
      " 6   release_date       26517 non-null  object \n",
      " 7   title              26517 non-null  object \n",
      " 8   vote_average       26517 non-null  float64\n",
      " 9   vote_count         26517 non-null  int64  \n",
      "dtypes: float64(2), int64(3), object(5)\n",
      "memory usage: 2.0+ MB\n"
     ]
    }
   ],
   "source": [
    "df_tmdb_movie.info()"
   ]
  },
  {
   "cell_type": "markdown",
   "id": "09e83460",
   "metadata": {},
   "source": [
    "Observation on df_tmdb_movie (Source: The MovieDB)\n",
    "* None of the 5 factors that determine movie success are availabe in this dataset, hence decision to exclude from further analysis\n"
   ]
  },
  {
   "cell_type": "code",
   "execution_count": 42,
   "id": "41ed98bc",
   "metadata": {},
   "outputs": [
    {
     "data": {
      "text/html": [
       "<div>\n",
       "<style scoped>\n",
       "    .dataframe tbody tr th:only-of-type {\n",
       "        vertical-align: middle;\n",
       "    }\n",
       "\n",
       "    .dataframe tbody tr th {\n",
       "        vertical-align: top;\n",
       "    }\n",
       "\n",
       "    .dataframe thead th {\n",
       "        text-align: right;\n",
       "    }\n",
       "</style>\n",
       "<table border=\"1\" class=\"dataframe\">\n",
       "  <thead>\n",
       "    <tr style=\"text-align: right;\">\n",
       "      <th></th>\n",
       "      <th>id</th>\n",
       "      <th>release_date</th>\n",
       "      <th>movie</th>\n",
       "      <th>production_budget</th>\n",
       "      <th>domestic_gross</th>\n",
       "      <th>worldwide_gross</th>\n",
       "    </tr>\n",
       "  </thead>\n",
       "  <tbody>\n",
       "    <tr>\n",
       "      <th>0</th>\n",
       "      <td>1</td>\n",
       "      <td>Dec 18, 2009</td>\n",
       "      <td>Avatar</td>\n",
       "      <td>$425,000,000</td>\n",
       "      <td>$760,507,625</td>\n",
       "      <td>$2,776,345,279</td>\n",
       "    </tr>\n",
       "    <tr>\n",
       "      <th>1</th>\n",
       "      <td>2</td>\n",
       "      <td>May 20, 2011</td>\n",
       "      <td>Pirates of the Caribbean: On Stranger Tides</td>\n",
       "      <td>$410,600,000</td>\n",
       "      <td>$241,063,875</td>\n",
       "      <td>$1,045,663,875</td>\n",
       "    </tr>\n",
       "    <tr>\n",
       "      <th>2</th>\n",
       "      <td>3</td>\n",
       "      <td>Jun 7, 2019</td>\n",
       "      <td>Dark Phoenix</td>\n",
       "      <td>$350,000,000</td>\n",
       "      <td>$42,762,350</td>\n",
       "      <td>$149,762,350</td>\n",
       "    </tr>\n",
       "    <tr>\n",
       "      <th>3</th>\n",
       "      <td>4</td>\n",
       "      <td>May 1, 2015</td>\n",
       "      <td>Avengers: Age of Ultron</td>\n",
       "      <td>$330,600,000</td>\n",
       "      <td>$459,005,868</td>\n",
       "      <td>$1,403,013,963</td>\n",
       "    </tr>\n",
       "    <tr>\n",
       "      <th>4</th>\n",
       "      <td>5</td>\n",
       "      <td>Dec 15, 2017</td>\n",
       "      <td>Star Wars Ep. VIII: The Last Jedi</td>\n",
       "      <td>$317,000,000</td>\n",
       "      <td>$620,181,382</td>\n",
       "      <td>$1,316,721,747</td>\n",
       "    </tr>\n",
       "  </tbody>\n",
       "</table>\n",
       "</div>"
      ],
      "text/plain": [
       "   id  release_date                                        movie   \n",
       "0   1  Dec 18, 2009                                       Avatar  \\\n",
       "1   2  May 20, 2011  Pirates of the Caribbean: On Stranger Tides   \n",
       "2   3   Jun 7, 2019                                 Dark Phoenix   \n",
       "3   4   May 1, 2015                      Avengers: Age of Ultron   \n",
       "4   5  Dec 15, 2017            Star Wars Ep. VIII: The Last Jedi   \n",
       "\n",
       "  production_budget domestic_gross worldwide_gross  \n",
       "0      $425,000,000   $760,507,625  $2,776,345,279  \n",
       "1      $410,600,000   $241,063,875  $1,045,663,875  \n",
       "2      $350,000,000    $42,762,350    $149,762,350  \n",
       "3      $330,600,000   $459,005,868  $1,403,013,963  \n",
       "4      $317,000,000   $620,181,382  $1,316,721,747  "
      ]
     },
     "execution_count": 42,
     "metadata": {},
     "output_type": "execute_result"
    }
   ],
   "source": [
    "# Loading csv files using pandas\n",
    "df_tn_movie = pd.read_csv('tn.movie_budgets.csv.gz', delimiter=',')\n",
    "df_tn_movie.head()"
   ]
  },
  {
   "cell_type": "markdown",
   "id": "18ca935b",
   "metadata": {},
   "source": [
    "Observation on df_tn_movie (source: The Numbers)\n",
    "\n",
    "None of the 5 factors that determine movie success are availabe in this dataset, hence decision to exclude from further analysis"
   ]
  },
  {
   "cell_type": "markdown",
   "id": "1332c50a",
   "metadata": {},
   "source": [
    "#### 4.2.2 IMDB files"
   ]
  },
  {
   "cell_type": "markdown",
   "id": "c90a98fa",
   "metadata": {},
   "source": [
    "According to project instructions, the IMDB files were to be contained in a zipped file (im.db.zip) and were to be accessed via SQLite database. Though, the zipped file was not found and in its place were 5 csv.gz files. This lead to loading the files into pandas and reading them with pd.read_csv as below:"
   ]
  },
  {
   "cell_type": "code",
   "execution_count": 44,
   "id": "342e8287",
   "metadata": {},
   "outputs": [
    {
     "data": {
      "text/html": [
       "<div>\n",
       "<style scoped>\n",
       "    .dataframe tbody tr th:only-of-type {\n",
       "        vertical-align: middle;\n",
       "    }\n",
       "\n",
       "    .dataframe tbody tr th {\n",
       "        vertical-align: top;\n",
       "    }\n",
       "\n",
       "    .dataframe thead th {\n",
       "        text-align: right;\n",
       "    }\n",
       "</style>\n",
       "<table border=\"1\" class=\"dataframe\">\n",
       "  <thead>\n",
       "    <tr style=\"text-align: right;\">\n",
       "      <th></th>\n",
       "      <th>nconst</th>\n",
       "      <th>primary_name</th>\n",
       "      <th>birth_year</th>\n",
       "      <th>death_year</th>\n",
       "      <th>primary_profession</th>\n",
       "      <th>known_for_titles</th>\n",
       "    </tr>\n",
       "  </thead>\n",
       "  <tbody>\n",
       "    <tr>\n",
       "      <th>0</th>\n",
       "      <td>nm0061671</td>\n",
       "      <td>Mary Ellen Bauder</td>\n",
       "      <td>NaN</td>\n",
       "      <td>NaN</td>\n",
       "      <td>miscellaneous,production_manager,producer</td>\n",
       "      <td>tt0837562,tt2398241,tt0844471,tt0118553</td>\n",
       "    </tr>\n",
       "    <tr>\n",
       "      <th>1</th>\n",
       "      <td>nm0061865</td>\n",
       "      <td>Joseph Bauer</td>\n",
       "      <td>NaN</td>\n",
       "      <td>NaN</td>\n",
       "      <td>composer,music_department,sound_department</td>\n",
       "      <td>tt0896534,tt6791238,tt0287072,tt1682940</td>\n",
       "    </tr>\n",
       "    <tr>\n",
       "      <th>2</th>\n",
       "      <td>nm0062070</td>\n",
       "      <td>Bruce Baum</td>\n",
       "      <td>NaN</td>\n",
       "      <td>NaN</td>\n",
       "      <td>miscellaneous,actor,writer</td>\n",
       "      <td>tt1470654,tt0363631,tt0104030,tt0102898</td>\n",
       "    </tr>\n",
       "    <tr>\n",
       "      <th>3</th>\n",
       "      <td>nm0062195</td>\n",
       "      <td>Axel Baumann</td>\n",
       "      <td>NaN</td>\n",
       "      <td>NaN</td>\n",
       "      <td>camera_department,cinematographer,art_department</td>\n",
       "      <td>tt0114371,tt2004304,tt1618448,tt1224387</td>\n",
       "    </tr>\n",
       "    <tr>\n",
       "      <th>4</th>\n",
       "      <td>nm0062798</td>\n",
       "      <td>Pete Baxter</td>\n",
       "      <td>NaN</td>\n",
       "      <td>NaN</td>\n",
       "      <td>production_designer,art_department,set_decorator</td>\n",
       "      <td>tt0452644,tt0452692,tt3458030,tt2178256</td>\n",
       "    </tr>\n",
       "  </tbody>\n",
       "</table>\n",
       "</div>"
      ],
      "text/plain": [
       "      nconst       primary_name  birth_year  death_year   \n",
       "0  nm0061671  Mary Ellen Bauder         NaN         NaN  \\\n",
       "1  nm0061865       Joseph Bauer         NaN         NaN   \n",
       "2  nm0062070         Bruce Baum         NaN         NaN   \n",
       "3  nm0062195       Axel Baumann         NaN         NaN   \n",
       "4  nm0062798        Pete Baxter         NaN         NaN   \n",
       "\n",
       "                                 primary_profession   \n",
       "0         miscellaneous,production_manager,producer  \\\n",
       "1        composer,music_department,sound_department   \n",
       "2                        miscellaneous,actor,writer   \n",
       "3  camera_department,cinematographer,art_department   \n",
       "4  production_designer,art_department,set_decorator   \n",
       "\n",
       "                          known_for_titles  \n",
       "0  tt0837562,tt2398241,tt0844471,tt0118553  \n",
       "1  tt0896534,tt6791238,tt0287072,tt1682940  \n",
       "2  tt1470654,tt0363631,tt0104030,tt0102898  \n",
       "3  tt0114371,tt2004304,tt1618448,tt1224387  \n",
       "4  tt0452644,tt0452692,tt3458030,tt2178256  "
      ]
     },
     "execution_count": 44,
     "metadata": {},
     "output_type": "execute_result"
    }
   ],
   "source": [
    "# Loading csv files using pandas\n",
    "df_imdb_namebasics = pd.read_csv('imdb.name.basics.csv.gz', delimiter=',')\n",
    "df_imdb_namebasics.head()"
   ]
  },
  {
   "cell_type": "code",
   "execution_count": 22,
   "id": "2414e6ec",
   "metadata": {},
   "outputs": [
    {
     "name": "stdout",
     "output_type": "stream",
     "text": [
      "<class 'pandas.core.frame.DataFrame'>\n",
      "RangeIndex: 606648 entries, 0 to 606647\n",
      "Data columns (total 6 columns):\n",
      " #   Column              Non-Null Count   Dtype  \n",
      "---  ------              --------------   -----  \n",
      " 0   nconst              606648 non-null  object \n",
      " 1   primary_name        606648 non-null  object \n",
      " 2   birth_year          82736 non-null   float64\n",
      " 3   death_year          6783 non-null    float64\n",
      " 4   primary_profession  555308 non-null  object \n",
      " 5   known_for_titles    576444 non-null  object \n",
      "dtypes: float64(2), object(4)\n",
      "memory usage: 27.8+ MB\n"
     ]
    }
   ],
   "source": [
    "df_imdb_namebasics.info()"
   ]
  },
  {
   "cell_type": "code",
   "execution_count": 22,
   "id": "ad8a1a00",
   "metadata": {},
   "outputs": [
    {
     "data": {
      "text/html": [
       "<div>\n",
       "<style scoped>\n",
       "    .dataframe tbody tr th:only-of-type {\n",
       "        vertical-align: middle;\n",
       "    }\n",
       "\n",
       "    .dataframe tbody tr th {\n",
       "        vertical-align: top;\n",
       "    }\n",
       "\n",
       "    .dataframe thead th {\n",
       "        text-align: right;\n",
       "    }\n",
       "</style>\n",
       "<table border=\"1\" class=\"dataframe\">\n",
       "  <thead>\n",
       "    <tr style=\"text-align: right;\">\n",
       "      <th></th>\n",
       "      <th>tconst</th>\n",
       "      <th>primary_title</th>\n",
       "      <th>original_title</th>\n",
       "      <th>start_year</th>\n",
       "      <th>runtime_minutes</th>\n",
       "      <th>genres</th>\n",
       "    </tr>\n",
       "  </thead>\n",
       "  <tbody>\n",
       "    <tr>\n",
       "      <th>0</th>\n",
       "      <td>tt0063540</td>\n",
       "      <td>Sunghursh</td>\n",
       "      <td>Sunghursh</td>\n",
       "      <td>2013</td>\n",
       "      <td>175.0</td>\n",
       "      <td>Action,Crime,Drama</td>\n",
       "    </tr>\n",
       "    <tr>\n",
       "      <th>1</th>\n",
       "      <td>tt0066787</td>\n",
       "      <td>One Day Before the Rainy Season</td>\n",
       "      <td>Ashad Ka Ek Din</td>\n",
       "      <td>2019</td>\n",
       "      <td>114.0</td>\n",
       "      <td>Biography,Drama</td>\n",
       "    </tr>\n",
       "    <tr>\n",
       "      <th>2</th>\n",
       "      <td>tt0069049</td>\n",
       "      <td>The Other Side of the Wind</td>\n",
       "      <td>The Other Side of the Wind</td>\n",
       "      <td>2018</td>\n",
       "      <td>122.0</td>\n",
       "      <td>Drama</td>\n",
       "    </tr>\n",
       "    <tr>\n",
       "      <th>3</th>\n",
       "      <td>tt0069204</td>\n",
       "      <td>Sabse Bada Sukh</td>\n",
       "      <td>Sabse Bada Sukh</td>\n",
       "      <td>2018</td>\n",
       "      <td>NaN</td>\n",
       "      <td>Comedy,Drama</td>\n",
       "    </tr>\n",
       "    <tr>\n",
       "      <th>4</th>\n",
       "      <td>tt0100275</td>\n",
       "      <td>The Wandering Soap Opera</td>\n",
       "      <td>La Telenovela Errante</td>\n",
       "      <td>2017</td>\n",
       "      <td>80.0</td>\n",
       "      <td>Comedy,Drama,Fantasy</td>\n",
       "    </tr>\n",
       "  </tbody>\n",
       "</table>\n",
       "</div>"
      ],
      "text/plain": [
       "      tconst                    primary_title              original_title   \n",
       "0  tt0063540                        Sunghursh                   Sunghursh  \\\n",
       "1  tt0066787  One Day Before the Rainy Season             Ashad Ka Ek Din   \n",
       "2  tt0069049       The Other Side of the Wind  The Other Side of the Wind   \n",
       "3  tt0069204                  Sabse Bada Sukh             Sabse Bada Sukh   \n",
       "4  tt0100275         The Wandering Soap Opera       La Telenovela Errante   \n",
       "\n",
       "   start_year  runtime_minutes                genres  \n",
       "0        2013            175.0    Action,Crime,Drama  \n",
       "1        2019            114.0       Biography,Drama  \n",
       "2        2018            122.0                 Drama  \n",
       "3        2018              NaN          Comedy,Drama  \n",
       "4        2017             80.0  Comedy,Drama,Fantasy  "
      ]
     },
     "execution_count": 22,
     "metadata": {},
     "output_type": "execute_result"
    }
   ],
   "source": [
    "# Loading csv files using pandas\n",
    "df_imdb_titlebasics = pd.read_csv('imdb.title.basics.csv.gz', delimiter=',')\n",
    "df_imdb_titlebasics.head()"
   ]
  },
  {
   "cell_type": "code",
   "execution_count": 23,
   "id": "62eefbb3",
   "metadata": {},
   "outputs": [
    {
     "name": "stdout",
     "output_type": "stream",
     "text": [
      "<class 'pandas.core.frame.DataFrame'>\n",
      "RangeIndex: 146144 entries, 0 to 146143\n",
      "Data columns (total 6 columns):\n",
      " #   Column           Non-Null Count   Dtype  \n",
      "---  ------           --------------   -----  \n",
      " 0   tconst           146144 non-null  object \n",
      " 1   primary_title    146143 non-null  object \n",
      " 2   original_title   146122 non-null  object \n",
      " 3   start_year       146144 non-null  int64  \n",
      " 4   runtime_minutes  114405 non-null  float64\n",
      " 5   genres           140736 non-null  object \n",
      "dtypes: float64(1), int64(1), object(4)\n",
      "memory usage: 6.7+ MB\n"
     ]
    }
   ],
   "source": [
    "df_imdb_titlebasics.info()"
   ]
  },
  {
   "cell_type": "code",
   "execution_count": 26,
   "id": "87ef6dc2",
   "metadata": {},
   "outputs": [
    {
     "data": {
      "text/html": [
       "<div>\n",
       "<style scoped>\n",
       "    .dataframe tbody tr th:only-of-type {\n",
       "        vertical-align: middle;\n",
       "    }\n",
       "\n",
       "    .dataframe tbody tr th {\n",
       "        vertical-align: top;\n",
       "    }\n",
       "\n",
       "    .dataframe thead th {\n",
       "        text-align: right;\n",
       "    }\n",
       "</style>\n",
       "<table border=\"1\" class=\"dataframe\">\n",
       "  <thead>\n",
       "    <tr style=\"text-align: right;\">\n",
       "      <th></th>\n",
       "      <th>tconst</th>\n",
       "      <th>averagerating</th>\n",
       "      <th>numvotes</th>\n",
       "    </tr>\n",
       "  </thead>\n",
       "  <tbody>\n",
       "    <tr>\n",
       "      <th>0</th>\n",
       "      <td>tt10356526</td>\n",
       "      <td>8.3</td>\n",
       "      <td>31</td>\n",
       "    </tr>\n",
       "    <tr>\n",
       "      <th>1</th>\n",
       "      <td>tt10384606</td>\n",
       "      <td>8.9</td>\n",
       "      <td>559</td>\n",
       "    </tr>\n",
       "    <tr>\n",
       "      <th>2</th>\n",
       "      <td>tt1042974</td>\n",
       "      <td>6.4</td>\n",
       "      <td>20</td>\n",
       "    </tr>\n",
       "    <tr>\n",
       "      <th>3</th>\n",
       "      <td>tt1043726</td>\n",
       "      <td>4.2</td>\n",
       "      <td>50352</td>\n",
       "    </tr>\n",
       "    <tr>\n",
       "      <th>4</th>\n",
       "      <td>tt1060240</td>\n",
       "      <td>6.5</td>\n",
       "      <td>21</td>\n",
       "    </tr>\n",
       "  </tbody>\n",
       "</table>\n",
       "</div>"
      ],
      "text/plain": [
       "       tconst  averagerating  numvotes\n",
       "0  tt10356526            8.3        31\n",
       "1  tt10384606            8.9       559\n",
       "2   tt1042974            6.4        20\n",
       "3   tt1043726            4.2     50352\n",
       "4   tt1060240            6.5        21"
      ]
     },
     "execution_count": 26,
     "metadata": {},
     "output_type": "execute_result"
    }
   ],
   "source": [
    "# Loading csv files using pandas\n",
    "df_imdb_titleratings = pd.read_csv('imdb.title.ratings.csv.gz', delimiter=',')\n",
    "df_imdb_titleratings.head()"
   ]
  },
  {
   "cell_type": "code",
   "execution_count": 27,
   "id": "c75a59a1",
   "metadata": {},
   "outputs": [
    {
     "name": "stdout",
     "output_type": "stream",
     "text": [
      "<class 'pandas.core.frame.DataFrame'>\n",
      "RangeIndex: 73856 entries, 0 to 73855\n",
      "Data columns (total 3 columns):\n",
      " #   Column         Non-Null Count  Dtype  \n",
      "---  ------         --------------  -----  \n",
      " 0   tconst         73856 non-null  object \n",
      " 1   averagerating  73856 non-null  float64\n",
      " 2   numvotes       73856 non-null  int64  \n",
      "dtypes: float64(1), int64(1), object(1)\n",
      "memory usage: 1.7+ MB\n"
     ]
    }
   ],
   "source": [
    "df_imdb_titleratings.info()"
   ]
  },
  {
   "cell_type": "code",
   "execution_count": 20,
   "id": "fc401807",
   "metadata": {},
   "outputs": [
    {
     "data": {
      "text/html": [
       "<div>\n",
       "<style scoped>\n",
       "    .dataframe tbody tr th:only-of-type {\n",
       "        vertical-align: middle;\n",
       "    }\n",
       "\n",
       "    .dataframe tbody tr th {\n",
       "        vertical-align: top;\n",
       "    }\n",
       "\n",
       "    .dataframe thead th {\n",
       "        text-align: right;\n",
       "    }\n",
       "</style>\n",
       "<table border=\"1\" class=\"dataframe\">\n",
       "  <thead>\n",
       "    <tr style=\"text-align: right;\">\n",
       "      <th></th>\n",
       "      <th>tconst</th>\n",
       "      <th>directors</th>\n",
       "      <th>writers</th>\n",
       "    </tr>\n",
       "  </thead>\n",
       "  <tbody>\n",
       "    <tr>\n",
       "      <th>146139</th>\n",
       "      <td>tt8999974</td>\n",
       "      <td>nm10122357</td>\n",
       "      <td>nm10122357</td>\n",
       "    </tr>\n",
       "    <tr>\n",
       "      <th>146140</th>\n",
       "      <td>tt9001390</td>\n",
       "      <td>nm6711477</td>\n",
       "      <td>nm6711477</td>\n",
       "    </tr>\n",
       "    <tr>\n",
       "      <th>146141</th>\n",
       "      <td>tt9001494</td>\n",
       "      <td>nm10123242,nm10123248</td>\n",
       "      <td>NaN</td>\n",
       "    </tr>\n",
       "    <tr>\n",
       "      <th>146142</th>\n",
       "      <td>tt9004986</td>\n",
       "      <td>nm4993825</td>\n",
       "      <td>nm4993825</td>\n",
       "    </tr>\n",
       "    <tr>\n",
       "      <th>146143</th>\n",
       "      <td>tt9010172</td>\n",
       "      <td>NaN</td>\n",
       "      <td>nm8352242</td>\n",
       "    </tr>\n",
       "  </tbody>\n",
       "</table>\n",
       "</div>"
      ],
      "text/plain": [
       "           tconst              directors     writers\n",
       "146139  tt8999974             nm10122357  nm10122357\n",
       "146140  tt9001390              nm6711477   nm6711477\n",
       "146141  tt9001494  nm10123242,nm10123248         NaN\n",
       "146142  tt9004986              nm4993825   nm4993825\n",
       "146143  tt9010172                    NaN   nm8352242"
      ]
     },
     "execution_count": 20,
     "metadata": {},
     "output_type": "execute_result"
    }
   ],
   "source": [
    "# Loading csv files using pandas\n",
    "df_imdb_titlecrew = pd.read_csv('imdb.title.crew.csv.gz', delimiter=',')\n",
    "df_imdb_titlecrew.tail()"
   ]
  },
  {
   "cell_type": "markdown",
   "id": "6d441246",
   "metadata": {},
   "source": [
    "Observation on IMDB files\n",
    "The files contain limited data as stand alone tables hence need to merge them as below"
   ]
  },
  {
   "cell_type": "code",
   "execution_count": 36,
   "id": "0e0b5a7e",
   "metadata": {},
   "outputs": [
    {
     "data": {
      "text/html": [
       "<div>\n",
       "<style scoped>\n",
       "    .dataframe tbody tr th:only-of-type {\n",
       "        vertical-align: middle;\n",
       "    }\n",
       "\n",
       "    .dataframe tbody tr th {\n",
       "        vertical-align: top;\n",
       "    }\n",
       "\n",
       "    .dataframe thead th {\n",
       "        text-align: right;\n",
       "    }\n",
       "</style>\n",
       "<table border=\"1\" class=\"dataframe\">\n",
       "  <thead>\n",
       "    <tr style=\"text-align: right;\">\n",
       "      <th></th>\n",
       "      <th>tconst</th>\n",
       "      <th>primary_title</th>\n",
       "      <th>original_title</th>\n",
       "      <th>start_year</th>\n",
       "      <th>runtime_minutes</th>\n",
       "      <th>genres</th>\n",
       "      <th>averagerating</th>\n",
       "      <th>numvotes</th>\n",
       "      <th>directors</th>\n",
       "      <th>writers</th>\n",
       "    </tr>\n",
       "  </thead>\n",
       "  <tbody>\n",
       "    <tr>\n",
       "      <th>73851</th>\n",
       "      <td>tt9913084</td>\n",
       "      <td>Diabolik sono io</td>\n",
       "      <td>Diabolik sono io</td>\n",
       "      <td>2019</td>\n",
       "      <td>75.0</td>\n",
       "      <td>Documentary</td>\n",
       "      <td>6.2</td>\n",
       "      <td>6</td>\n",
       "      <td>nm0812850</td>\n",
       "      <td>nm0812850,nm10121762</td>\n",
       "    </tr>\n",
       "    <tr>\n",
       "      <th>73852</th>\n",
       "      <td>tt9914286</td>\n",
       "      <td>Sokagin Çocuklari</td>\n",
       "      <td>Sokagin Çocuklari</td>\n",
       "      <td>2019</td>\n",
       "      <td>98.0</td>\n",
       "      <td>Drama,Family</td>\n",
       "      <td>8.7</td>\n",
       "      <td>136</td>\n",
       "      <td>nm4394529</td>\n",
       "      <td>nm4394529,nm1902682</td>\n",
       "    </tr>\n",
       "    <tr>\n",
       "      <th>73853</th>\n",
       "      <td>tt9914642</td>\n",
       "      <td>Albatross</td>\n",
       "      <td>Albatross</td>\n",
       "      <td>2017</td>\n",
       "      <td>NaN</td>\n",
       "      <td>Documentary</td>\n",
       "      <td>8.5</td>\n",
       "      <td>8</td>\n",
       "      <td>nm5300859</td>\n",
       "      <td>nm5300859,nm7332227</td>\n",
       "    </tr>\n",
       "    <tr>\n",
       "      <th>73854</th>\n",
       "      <td>tt9914942</td>\n",
       "      <td>La vida sense la Sara Amat</td>\n",
       "      <td>La vida sense la Sara Amat</td>\n",
       "      <td>2019</td>\n",
       "      <td>NaN</td>\n",
       "      <td>NaN</td>\n",
       "      <td>6.6</td>\n",
       "      <td>5</td>\n",
       "      <td>nm1716653</td>\n",
       "      <td>nm3678448,nm9361716</td>\n",
       "    </tr>\n",
       "    <tr>\n",
       "      <th>73855</th>\n",
       "      <td>tt9916160</td>\n",
       "      <td>Drømmeland</td>\n",
       "      <td>Drømmeland</td>\n",
       "      <td>2019</td>\n",
       "      <td>72.0</td>\n",
       "      <td>Documentary</td>\n",
       "      <td>6.5</td>\n",
       "      <td>11</td>\n",
       "      <td>nm5684093</td>\n",
       "      <td>NaN</td>\n",
       "    </tr>\n",
       "  </tbody>\n",
       "</table>\n",
       "</div>"
      ],
      "text/plain": [
       "          tconst               primary_title              original_title   \n",
       "73851  tt9913084            Diabolik sono io            Diabolik sono io  \\\n",
       "73852  tt9914286           Sokagin Çocuklari           Sokagin Çocuklari   \n",
       "73853  tt9914642                   Albatross                   Albatross   \n",
       "73854  tt9914942  La vida sense la Sara Amat  La vida sense la Sara Amat   \n",
       "73855  tt9916160                  Drømmeland                  Drømmeland   \n",
       "\n",
       "       start_year  runtime_minutes        genres  averagerating  numvotes   \n",
       "73851        2019             75.0   Documentary            6.2         6  \\\n",
       "73852        2019             98.0  Drama,Family            8.7       136   \n",
       "73853        2017              NaN   Documentary            8.5         8   \n",
       "73854        2019              NaN           NaN            6.6         5   \n",
       "73855        2019             72.0   Documentary            6.5        11   \n",
       "\n",
       "       directors               writers  \n",
       "73851  nm0812850  nm0812850,nm10121762  \n",
       "73852  nm4394529   nm4394529,nm1902682  \n",
       "73853  nm5300859   nm5300859,nm7332227  \n",
       "73854  nm1716653   nm3678448,nm9361716  \n",
       "73855  nm5684093                   NaN  "
      ]
     },
     "execution_count": 36,
     "metadata": {},
     "output_type": "execute_result"
    }
   ],
   "source": [
    "# Merging IMDB files - df_imdb_titlebasics, df_imdb_titleratings and df_imdb_titlecrew\n",
    "merged_df_imdb = pd.merge(pd.merge(df_imdb_titlebasics, df_imdb_titleratings, on='tconst'), df_imdb_titlecrew, on='tconst')\n",
    "merged_df_imdb.tail()"
   ]
  },
  {
   "cell_type": "code",
   "execution_count": 37,
   "id": "c802ab05",
   "metadata": {
    "scrolled": false
   },
   "outputs": [
    {
     "name": "stdout",
     "output_type": "stream",
     "text": [
      "<class 'pandas.core.frame.DataFrame'>\n",
      "RangeIndex: 73856 entries, 0 to 73855\n",
      "Data columns (total 10 columns):\n",
      " #   Column           Non-Null Count  Dtype  \n",
      "---  ------           --------------  -----  \n",
      " 0   tconst           73856 non-null  object \n",
      " 1   primary_title    73856 non-null  object \n",
      " 2   original_title   73856 non-null  object \n",
      " 3   start_year       73856 non-null  int64  \n",
      " 4   runtime_minutes  66236 non-null  float64\n",
      " 5   genres           73052 non-null  object \n",
      " 6   averagerating    73856 non-null  float64\n",
      " 7   numvotes         73856 non-null  int64  \n",
      " 8   directors        73104 non-null  object \n",
      " 9   writers          63295 non-null  object \n",
      "dtypes: float64(2), int64(2), object(6)\n",
      "memory usage: 5.6+ MB\n"
     ]
    }
   ],
   "source": [
    "merged_df_imdb.info()"
   ]
  },
  {
   "cell_type": "markdown",
   "id": "4208d985",
   "metadata": {},
   "source": [
    "## 5.0 Cleaning the Data"
   ]
  },
  {
   "cell_type": "markdown",
   "id": "24ad69fc",
   "metadata": {},
   "source": [
    "In this section we will be conducting data cleaning for five main dataframes. Despite the merging conducted in previous section, it was observed that the df_rt_reviews and df_rt_movie dataframes have important features that can be analyzed separately and also when the two dataframes are merged.\n",
    "* df_bom_movie\n",
    "* df_rt_movie\n",
    "* df_rt_reviews\n",
    "* merged_df_rt\n",
    "* merged_df_imdb"
   ]
  },
  {
   "cell_type": "markdown",
   "id": "bfcf1ec9",
   "metadata": {},
   "source": [
    "#### 5.1 Checking for and handling duplicate rows"
   ]
  },
  {
   "cell_type": "code",
   "execution_count": 42,
   "id": "a89c2c2f",
   "metadata": {},
   "outputs": [],
   "source": [
    "# Defining a function to apply across the 3 dfs\n",
    "def check_duplicates(df):\n",
    "    duplicates = df.duplicated().sum()\n",
    "    initial_rows = len(df)\n",
    "    final_rows = initial_rows - duplicates\n",
    "    print(f\"Initial rows: {initial_rows}, Duplicated rows: {duplicates}, Final rows: {final_rows}\")"
   ]
  },
  {
   "cell_type": "code",
   "execution_count": 44,
   "id": "b8f4640b",
   "metadata": {},
   "outputs": [
    {
     "name": "stdout",
     "output_type": "stream",
     "text": [
      "Initial rows: 3387, Duplicated rows: 0, Final rows: 3387\n"
     ]
    }
   ],
   "source": [
    "# Checking for duplicates in df_bom_movie\n",
    "check_duplicates(df_bom_movie)"
   ]
  },
  {
   "cell_type": "code",
   "execution_count": 45,
   "id": "24ccb5da",
   "metadata": {},
   "outputs": [
    {
     "name": "stdout",
     "output_type": "stream",
     "text": [
      "Initial rows: 54432, Duplicated rows: 9, Final rows: 54423\n"
     ]
    }
   ],
   "source": [
    "# Checking for duplicates in merged_df_rt\n",
    "check_duplicates(merged_df_rt)"
   ]
  },
  {
   "cell_type": "code",
   "execution_count": 43,
   "id": "d3e4cae9",
   "metadata": {
    "scrolled": true
   },
   "outputs": [
    {
     "name": "stdout",
     "output_type": "stream",
     "text": [
      "Initial rows: 73856, Duplicated rows: 0, Final rows: 73856\n"
     ]
    }
   ],
   "source": [
    "# Checking for duplicates in merged_df_imdb\n",
    "check_duplicates(merged_df_imdb)"
   ]
  },
  {
   "cell_type": "code",
   "execution_count": 51,
   "id": "2d7b6cdd",
   "metadata": {},
   "outputs": [
    {
     "name": "stdout",
     "output_type": "stream",
     "text": [
      "Initial rows: 54432, Duplicated rows: 9, Final rows: 54423\n"
     ]
    }
   ],
   "source": [
    "# Checking for duplicates in df_rt_reviews\n",
    "check_duplicates(df_rt_reviews)"
   ]
  },
  {
   "cell_type": "code",
   "execution_count": 52,
   "id": "37824719",
   "metadata": {},
   "outputs": [
    {
     "name": "stdout",
     "output_type": "stream",
     "text": [
      "Initial rows: 1560, Duplicated rows: 0, Final rows: 1560\n"
     ]
    }
   ],
   "source": [
    "# Checking for duplicates in df_rt_movie\n",
    "check_duplicates(df_rt_movie)"
   ]
  },
  {
   "cell_type": "code",
   "execution_count": 82,
   "id": "e33ce6ad",
   "metadata": {},
   "outputs": [],
   "source": [
    "# Dropping duplicates in df_rt_reviews\n",
    "df_rt_reviews.drop_duplicates(inplace = True)"
   ]
  },
  {
   "cell_type": "code",
   "execution_count": 83,
   "id": "e8a4445e",
   "metadata": {},
   "outputs": [],
   "source": [
    "# Dropping duplicates in merged_df_rt\n",
    "merged_df_rt.drop_duplicates(inplace = True)"
   ]
  },
  {
   "cell_type": "markdown",
   "id": "e4f6a425",
   "metadata": {},
   "source": [
    "#### 5.2 Checking and handling missing data"
   ]
  },
  {
   "cell_type": "code",
   "execution_count": 59,
   "id": "d11ace3b",
   "metadata": {},
   "outputs": [],
   "source": [
    "# Checking for nans\n",
    "def find_nans(df):\n",
    "    #loop through all columns \n",
    "    for column in df.columns:\n",
    "        sum_nan_rows = df[column].isna().sum()\n",
    "        initial_rows = len(df)\n",
    "        final_rows = initial_rows - sum_nan_rows\n",
    "        print(f\"Column {column}: Initial rows: {initial_rows}, Null rows: {sum_nan_rows}, Non null rows: {final_rows}\")"
   ]
  },
  {
   "cell_type": "markdown",
   "id": "12af1f49",
   "metadata": {},
   "source": [
    "#### df_bom_movie"
   ]
  },
  {
   "cell_type": "code",
   "execution_count": 60,
   "id": "bdeab29c",
   "metadata": {
    "scrolled": false
   },
   "outputs": [
    {
     "name": "stdout",
     "output_type": "stream",
     "text": [
      "Column title: Initial rows: 3387, Null rows: 0, Non null rows: 3387\n",
      "Column studio: Initial rows: 3387, Null rows: 5, Non null rows: 3382\n",
      "Column domestic_gross: Initial rows: 3387, Null rows: 28, Non null rows: 3359\n",
      "Column foreign_gross: Initial rows: 3387, Null rows: 1350, Non null rows: 2037\n",
      "Column year: Initial rows: 3387, Null rows: 0, Non null rows: 3387\n"
     ]
    }
   ],
   "source": [
    "# Example - Checking for nulls in df_bom_movie\n",
    "find_nans(df_bom_movie)"
   ]
  },
  {
   "cell_type": "markdown",
   "id": "36e3a8ec",
   "metadata": {},
   "source": [
    "In section 4.2, we printed out information for each dataframe. In the dataframes with null entries, we will go ahead and drop null rows"
   ]
  },
  {
   "cell_type": "code",
   "execution_count": 62,
   "id": "a2ad35a9",
   "metadata": {},
   "outputs": [
    {
     "name": "stdout",
     "output_type": "stream",
     "text": [
      "<class 'pandas.core.frame.DataFrame'>\n",
      "RangeIndex: 3387 entries, 0 to 3386\n",
      "Data columns (total 5 columns):\n",
      " #   Column          Non-Null Count  Dtype  \n",
      "---  ------          --------------  -----  \n",
      " 0   title           3387 non-null   object \n",
      " 1   studio          3382 non-null   object \n",
      " 2   domestic_gross  3359 non-null   float64\n",
      " 3   foreign_gross   2037 non-null   object \n",
      " 4   year            3387 non-null   int64  \n",
      "dtypes: float64(1), int64(1), object(3)\n",
      "memory usage: 132.4+ KB\n"
     ]
    }
   ],
   "source": [
    "df_bom_movie.info()"
   ]
  },
  {
   "cell_type": "markdown",
   "id": "46badd1e",
   "metadata": {},
   "source": [
    "Observations: All columns except foreign gross have > 3000 values out of a total 3387. Hence we will drop the null rows for all columns and for foreign_gross we will replace null values with zero"
   ]
  },
  {
   "cell_type": "code",
   "execution_count": 63,
   "id": "cb7872bd",
   "metadata": {},
   "outputs": [],
   "source": [
    "# drop null rows from columns with missing values except foreign_gross\n",
    "df_bom_movie.dropna(inplace = True, subset = ['studio','domestic_gross'])\n"
   ]
  },
  {
   "cell_type": "code",
   "execution_count": 64,
   "id": "bfb9ebb7",
   "metadata": {},
   "outputs": [],
   "source": [
    "#replace missing values with 0 in foreign_gross column\n",
    "df_bom_movie.foreign_gross.fillna('0',inplace = True)"
   ]
  },
  {
   "cell_type": "code",
   "execution_count": 65,
   "id": "ba52fbd4",
   "metadata": {},
   "outputs": [
    {
     "name": "stdout",
     "output_type": "stream",
     "text": [
      "<class 'pandas.core.frame.DataFrame'>\n",
      "Index: 3356 entries, 0 to 3386\n",
      "Data columns (total 5 columns):\n",
      " #   Column          Non-Null Count  Dtype  \n",
      "---  ------          --------------  -----  \n",
      " 0   title           3356 non-null   object \n",
      " 1   studio          3356 non-null   object \n",
      " 2   domestic_gross  3356 non-null   float64\n",
      " 3   foreign_gross   3356 non-null   object \n",
      " 4   year            3356 non-null   int64  \n",
      "dtypes: float64(1), int64(1), object(3)\n",
      "memory usage: 157.3+ KB\n"
     ]
    }
   ],
   "source": [
    "#Inspecting resulting df:\n",
    "df_bom_movie.info()"
   ]
  },
  {
   "cell_type": "markdown",
   "id": "8840f317",
   "metadata": {},
   "source": [
    "#### df_rt_movie"
   ]
  },
  {
   "cell_type": "code",
   "execution_count": 67,
   "id": "c3f99f6b",
   "metadata": {},
   "outputs": [
    {
     "name": "stdout",
     "output_type": "stream",
     "text": [
      "<class 'pandas.core.frame.DataFrame'>\n",
      "RangeIndex: 1560 entries, 0 to 1559\n",
      "Data columns (total 12 columns):\n",
      " #   Column        Non-Null Count  Dtype \n",
      "---  ------        --------------  ----- \n",
      " 0   id            1560 non-null   int64 \n",
      " 1   synopsis      1498 non-null   object\n",
      " 2   rating        1557 non-null   object\n",
      " 3   genre         1552 non-null   object\n",
      " 4   director      1361 non-null   object\n",
      " 5   writer        1111 non-null   object\n",
      " 6   theater_date  1201 non-null   object\n",
      " 7   dvd_date      1201 non-null   object\n",
      " 8   currency      340 non-null    object\n",
      " 9   box_office    340 non-null    object\n",
      " 10  runtime       1530 non-null   object\n",
      " 11  studio        494 non-null    object\n",
      "dtypes: int64(1), object(11)\n",
      "memory usage: 146.4+ KB\n"
     ]
    }
   ],
   "source": [
    "# Inspecting intial df\n",
    "df_rt_movie.info()"
   ]
  },
  {
   "cell_type": "markdown",
   "id": "0977cd8a",
   "metadata": {},
   "source": [
    "Observation:\n",
    "Total rows are 1560. For columns with < 500 values, we will drop them as they have >50% of data missing. For columns with >500 values, we will drop the rows with missing values"
   ]
  },
  {
   "cell_type": "code",
   "execution_count": 77,
   "id": "c5bf68ad",
   "metadata": {},
   "outputs": [],
   "source": [
    "# Dropping columns with < 500 entries\n",
    "df_rt_movie.drop(['currency','box_office','studio'], axis = 1, inplace=True)"
   ]
  },
  {
   "cell_type": "code",
   "execution_count": 78,
   "id": "4f54d81d",
   "metadata": {},
   "outputs": [
    {
     "name": "stdout",
     "output_type": "stream",
     "text": [
      "Index(['id', 'synopsis', 'rating', 'genre', 'director', 'writer',\n",
      "       'theater_date', 'dvd_date', 'runtime'],\n",
      "      dtype='object')\n"
     ]
    }
   ],
   "source": [
    "print(df_rt_movie.columns)"
   ]
  },
  {
   "cell_type": "code",
   "execution_count": 79,
   "id": "d3307451",
   "metadata": {},
   "outputs": [],
   "source": [
    "# Dropping rows with missing values\n",
    "df_rt_movie.dropna(subset = ['synopsis', 'rating', 'genre', 'director', 'writer',\n",
    "       'theater_date', 'dvd_date', 'runtime'],inplace = True)"
   ]
  },
  {
   "cell_type": "code",
   "execution_count": 80,
   "id": "5fa4e2c5",
   "metadata": {
    "scrolled": true
   },
   "outputs": [
    {
     "name": "stdout",
     "output_type": "stream",
     "text": [
      "<class 'pandas.core.frame.DataFrame'>\n",
      "Index: 881 entries, 0 to 1558\n",
      "Data columns (total 9 columns):\n",
      " #   Column        Non-Null Count  Dtype \n",
      "---  ------        --------------  ----- \n",
      " 0   id            881 non-null    int64 \n",
      " 1   synopsis      881 non-null    object\n",
      " 2   rating        881 non-null    object\n",
      " 3   genre         881 non-null    object\n",
      " 4   director      881 non-null    object\n",
      " 5   writer        881 non-null    object\n",
      " 6   theater_date  881 non-null    object\n",
      " 7   dvd_date      881 non-null    object\n",
      " 8   runtime       881 non-null    object\n",
      "dtypes: int64(1), object(8)\n",
      "memory usage: 68.8+ KB\n"
     ]
    }
   ],
   "source": [
    "#Inspecting resulting df:\n",
    "df_rt_movie.info()"
   ]
  },
  {
   "cell_type": "markdown",
   "id": "2fe3dc69",
   "metadata": {},
   "source": [
    "#### df_rt_reviews"
   ]
  },
  {
   "cell_type": "code",
   "execution_count": 85,
   "id": "4834af95",
   "metadata": {},
   "outputs": [
    {
     "name": "stdout",
     "output_type": "stream",
     "text": [
      "<class 'pandas.core.frame.DataFrame'>\n",
      "Index: 54423 entries, 0 to 54431\n",
      "Data columns (total 8 columns):\n",
      " #   Column      Non-Null Count  Dtype \n",
      "---  ------      --------------  ----- \n",
      " 0   id          54423 non-null  int64 \n",
      " 1   review      48867 non-null  object\n",
      " 2   rating      40907 non-null  object\n",
      " 3   fresh       54423 non-null  object\n",
      " 4   critic      51710 non-null  object\n",
      " 5   top_critic  54423 non-null  int64 \n",
      " 6   publisher   54114 non-null  object\n",
      " 7   date        54423 non-null  object\n",
      "dtypes: int64(2), object(6)\n",
      "memory usage: 3.7+ MB\n"
     ]
    }
   ],
   "source": [
    "# Review original dataframe\n",
    "df_rt_reviews.info()"
   ]
  },
  {
   "cell_type": "markdown",
   "id": "b35da0dc",
   "metadata": {},
   "source": [
    "Observation: \n",
    "* The file has alot of entries for every column, hence decision to drop rows with missing values.\n",
    "* According to Rotten Tomatoes site, the rating column represents User Ratings inform of Stars. The fresh column represents approved critics' reviews. A movie can fall into 3 approval ratings Fresh (60%+ critics voted its a good movie), Rotten (<=59% critics voted its a bad movie). \n",
    "* Accordingly, both columns can be used to determine movie popularity. Though lets extend df analysis to understand the values therein contained."
   ]
  },
  {
   "cell_type": "code",
   "execution_count": 87,
   "id": "0e610a0c",
   "metadata": {},
   "outputs": [
    {
     "data": {
      "text/plain": [
       "array(['3/5', nan, 'C', '2/5', 'B-', '2/4', 'B', '3/4', '4/5', '4/4',\n",
       "       '6/10', '1/4', '8', '2.5/4', '4/10', '2.0/5', '3/10', '7/10', 'A-',\n",
       "       '5/5', 'F', '3.5/4', 'D+', '1.5/4', '3.5/5', '8/10', 'B+', '9/10',\n",
       "       '2.5/5', '7.5/10', '5.5/10', 'C-', '1.5/5', '1/5', '5/10', 'C+',\n",
       "       '0/5', '6', '0.5/4', 'D', '3.1/5', '3/6', '4.5/5', '0/4', '2/10',\n",
       "       'D-', '7', '1/10', '3', 'A+', 'A', '4.0/4', '9.5/10', '2.5',\n",
       "       '2.1/2', '6.5/10', '3.7/5', '8.4/10', '9', '1', '7.2/10', '2.2/5',\n",
       "       '0.5/10', '5', '0', '2', '4.5', '7.7', '5.0/5', '8.5/10', '3.0/5',\n",
       "       '0.5/5', '1.5/10', '3.0/4', '2.3/10', '4.5/10', '4/6', '3.5',\n",
       "       '8.6/10', '6/8', '2.0/4', '2.7', '4.2/10', '5.8', '4', '7.1/10',\n",
       "       '5/4', 'N', '3.5/10', '5.8/10', 'R', '4.0/5', '0/10', '5.0/10',\n",
       "       '5.9/10', '2.4/5', '1.9/5', '4.9', '7.4/10', '1.5', '2.3/4',\n",
       "       '8.8/10', '4.0/10', '2.2', '3.8/10', '6.8/10', '7.3', '7.0/10',\n",
       "       '3.2', '4.2', '8.4', '5.5/5', '6.3/10', '7.6/10', '8.1/10',\n",
       "       '3.6/5', '2/6', '7.7/10', '1.8', '8.9/10', '8.9', '8.2/10',\n",
       "       '8.3/10', '2.6/6', '4.1/10', '2.5/10', 'F+', '6.0/10', '1.0/4',\n",
       "       '7.9/10', '8.7/10', '4.3/10', '9.6/10', '9.0/10', '4.0', '1.7',\n",
       "       '7.9', '6.7', '8.0/10', '9.2/10', '5.2', '5.9', '3.7', '4.7',\n",
       "       '6.2/10', '1/6', '8.2', '2.6/5', '3.4', '9.7', '3.3/5', '3.8/5',\n",
       "       '1/2', '7.4', '4.8', '1.6/5', '2/2', '1-5', '1.0', '4.3/5', '5/6',\n",
       "       '9.2', '2.7/5', '4.9/10', '3.0', '3.1', '7.8/10', 'F-', '2.3/5',\n",
       "       '3.0/10', '3/2', '7.8', '4.2/5', '9.0', '7.3/10', '4.4/5',\n",
       "       '6.9/10', '0/6', 'T', '6.2', '3.3', '9.8', '8.5', '1.0/5', '4.1',\n",
       "       '7.1', '3 1/2'], dtype=object)"
      ]
     },
     "execution_count": 87,
     "metadata": {},
     "output_type": "execute_result"
    }
   ],
   "source": [
    "df_rt_reviews.rating.unique()"
   ]
  },
  {
   "cell_type": "code",
   "execution_count": 88,
   "id": "01ea6bcb",
   "metadata": {},
   "outputs": [
    {
     "data": {
      "text/plain": [
       "array(['fresh', 'rotten'], dtype=object)"
      ]
     },
     "execution_count": 88,
     "metadata": {},
     "output_type": "execute_result"
    }
   ],
   "source": [
    "df_rt_reviews.fresh.unique()"
   ]
  },
  {
   "cell_type": "markdown",
   "id": "a43457a5",
   "metadata": {},
   "source": [
    "Observation 2\n",
    "* The rating column comes in nonconsitent formats hence potential difficulty using this this column. We will keep the column though will utilize the fresh column that has two categories."
   ]
  },
  {
   "cell_type": "code",
   "execution_count": 89,
   "id": "d4146d28",
   "metadata": {},
   "outputs": [],
   "source": [
    "#drop rows with null values\n",
    "df_rt_reviews.dropna(inplace = True)"
   ]
  },
  {
   "cell_type": "code",
   "execution_count": 90,
   "id": "5c9a89ee",
   "metadata": {},
   "outputs": [
    {
     "name": "stdout",
     "output_type": "stream",
     "text": [
      "<class 'pandas.core.frame.DataFrame'>\n",
      "Index: 33988 entries, 0 to 54424\n",
      "Data columns (total 8 columns):\n",
      " #   Column      Non-Null Count  Dtype \n",
      "---  ------      --------------  ----- \n",
      " 0   id          33988 non-null  int64 \n",
      " 1   review      33988 non-null  object\n",
      " 2   rating      33988 non-null  object\n",
      " 3   fresh       33988 non-null  object\n",
      " 4   critic      33988 non-null  object\n",
      " 5   top_critic  33988 non-null  int64 \n",
      " 6   publisher   33988 non-null  object\n",
      " 7   date        33988 non-null  object\n",
      "dtypes: int64(2), object(6)\n",
      "memory usage: 2.3+ MB\n"
     ]
    }
   ],
   "source": [
    "#Inspecting resulting df:\n",
    "df_rt_reviews.info()"
   ]
  },
  {
   "cell_type": "markdown",
   "id": "2ead0677",
   "metadata": {},
   "source": [
    "#### merged_df_imdb"
   ]
  },
  {
   "cell_type": "code",
   "execution_count": 91,
   "id": "632104d1",
   "metadata": {},
   "outputs": [
    {
     "name": "stdout",
     "output_type": "stream",
     "text": [
      "<class 'pandas.core.frame.DataFrame'>\n",
      "RangeIndex: 73856 entries, 0 to 73855\n",
      "Data columns (total 10 columns):\n",
      " #   Column           Non-Null Count  Dtype  \n",
      "---  ------           --------------  -----  \n",
      " 0   tconst           73856 non-null  object \n",
      " 1   primary_title    73856 non-null  object \n",
      " 2   original_title   73856 non-null  object \n",
      " 3   start_year       73856 non-null  int64  \n",
      " 4   runtime_minutes  66236 non-null  float64\n",
      " 5   genres           73052 non-null  object \n",
      " 6   averagerating    73856 non-null  float64\n",
      " 7   numvotes         73856 non-null  int64  \n",
      " 8   directors        73104 non-null  object \n",
      " 9   writers          63295 non-null  object \n",
      "dtypes: float64(2), int64(2), object(6)\n",
      "memory usage: 5.6+ MB\n"
     ]
    }
   ],
   "source": [
    "# Inspecting intial df\n",
    "merged_df_imdb.info()"
   ]
  },
  {
   "cell_type": "code",
   "execution_count": 93,
   "id": "024e44f3",
   "metadata": {},
   "outputs": [],
   "source": [
    "#dropping rows with missing values\n",
    "merged_df_imdb.dropna(subset = ['runtime_minutes','genres','directors', 'writers'],inplace = True)"
   ]
  },
  {
   "cell_type": "code",
   "execution_count": 96,
   "id": "e1d2a486",
   "metadata": {},
   "outputs": [
    {
     "name": "stdout",
     "output_type": "stream",
     "text": [
      "<class 'pandas.core.frame.DataFrame'>\n",
      "Index: 56957 entries, 0 to 73852\n",
      "Data columns (total 10 columns):\n",
      " #   Column           Non-Null Count  Dtype  \n",
      "---  ------           --------------  -----  \n",
      " 0   tconst           56957 non-null  object \n",
      " 1   primary_title    56957 non-null  object \n",
      " 2   original_title   56957 non-null  object \n",
      " 3   start_year       56957 non-null  int64  \n",
      " 4   runtime_minutes  56957 non-null  float64\n",
      " 5   genres           56957 non-null  object \n",
      " 6   averagerating    56957 non-null  float64\n",
      " 7   numvotes         56957 non-null  int64  \n",
      " 8   directors        56957 non-null  object \n",
      " 9   writers          56957 non-null  object \n",
      "dtypes: float64(2), int64(2), object(6)\n",
      "memory usage: 4.8+ MB\n"
     ]
    }
   ],
   "source": [
    "#Inspecting resulting df\n",
    "merged_df_imdb.info()"
   ]
  },
  {
   "cell_type": "markdown",
   "id": "e2205e9d",
   "metadata": {},
   "source": [
    "#### 5.3 Other data cleaning procedures - data structure, invalid data and other anomalies"
   ]
  },
  {
   "cell_type": "markdown",
   "id": "bad4a2af",
   "metadata": {},
   "source": [
    "#### df_bom_movie"
   ]
  },
  {
   "cell_type": "code",
   "execution_count": 124,
   "id": "1ab41633",
   "metadata": {},
   "outputs": [],
   "source": [
    "# Convert dtype for foreign_gross from object to float64 to enable calculations\n",
    "df_bom_movie.foreign_gross = df_bom_movie.foreign_gross.astype(float)"
   ]
  },
  {
   "cell_type": "code",
   "execution_count": 125,
   "id": "2ac3440d",
   "metadata": {},
   "outputs": [
    {
     "data": {
      "text/plain": [
       "152111302376.5"
      ]
     },
     "execution_count": 125,
     "metadata": {},
     "output_type": "execute_result"
    }
   ],
   "source": [
    "#Validating that numerical operations will work\n",
    "df_bom_movie['foreign_gross'].sum()"
   ]
  },
  {
   "cell_type": "code",
   "execution_count": 126,
   "id": "5260b979",
   "metadata": {},
   "outputs": [
    {
     "data": {
      "text/plain": [
       "96557118980.0"
      ]
     },
     "execution_count": 126,
     "metadata": {},
     "output_type": "execute_result"
    }
   ],
   "source": [
    "#Validating that numerical operations will work\n",
    "df_bom_movie['domestic_gross'].sum() "
   ]
  },
  {
   "cell_type": "code",
   "execution_count": 102,
   "id": "a48c90d5",
   "metadata": {
    "scrolled": true
   },
   "outputs": [
    {
     "data": {
      "text/plain": [
       "array([2010, 2011, 2012, 2013, 2014, 2015, 2016, 2017, 2018], dtype=int64)"
      ]
     },
     "execution_count": 102,
     "metadata": {},
     "output_type": "execute_result"
    }
   ],
   "source": [
    "#Reviewing unique values in column year\n",
    "df_bom_movie['year'].unique() "
   ]
  },
  {
   "cell_type": "markdown",
   "id": "337cccc0",
   "metadata": {},
   "source": [
    "#### df_rt_movie"
   ]
  },
  {
   "cell_type": "code",
   "execution_count": 104,
   "id": "42b2a444",
   "metadata": {},
   "outputs": [
    {
     "data": {
      "text/plain": [
       "theater_date\n",
       "Jan 1, 1987     6\n",
       "Jan 1, 1988     4\n",
       "Jan 1, 1966     4\n",
       "Jan 1, 1973     4\n",
       "Aug 13, 2010    3\n",
       "               ..\n",
       "Dec 14, 1984    1\n",
       "Dec 19, 1990    1\n",
       "Aug 7, 1987     1\n",
       "Jan 24, 2014    1\n",
       "Apr 1, 1993     1\n",
       "Name: count, Length: 771, dtype: int64"
      ]
     },
     "execution_count": 104,
     "metadata": {},
     "output_type": "execute_result"
    }
   ],
   "source": [
    "#Reviewing value_counts values in column theater_date\n",
    "df_rt_movie['theater_date'].value_counts()"
   ]
  },
  {
   "cell_type": "markdown",
   "id": "2f79420c",
   "metadata": {},
   "source": [
    "The above analysis shows that the 'theater day' which we're assuming to be movie release day does not show any particular preference for specific days in the year as part of marketing strategy."
   ]
  },
  {
   "cell_type": "code",
   "execution_count": 105,
   "id": "cbae7db0",
   "metadata": {},
   "outputs": [],
   "source": [
    "# Remove structural issues i.e.genre & writer columns separated by pipe\n",
    "df_rt_movie = df_rt_movie.assign(genre=df_rt_movie.genre.str.split('|')).explode('genre')"
   ]
  },
  {
   "cell_type": "code",
   "execution_count": 107,
   "id": "9172baee",
   "metadata": {},
   "outputs": [],
   "source": [
    "# Remove structural issues i.e.genre & writer columns separated by pipe\n",
    "df_rt_movie = df_rt_movie.assign(writer=df_rt_movie.writer.str.split('|')).explode('writer')"
   ]
  },
  {
   "cell_type": "code",
   "execution_count": 108,
   "id": "76f0064c",
   "metadata": {},
   "outputs": [
    {
     "data": {
      "text/html": [
       "<div>\n",
       "<style scoped>\n",
       "    .dataframe tbody tr th:only-of-type {\n",
       "        vertical-align: middle;\n",
       "    }\n",
       "\n",
       "    .dataframe tbody tr th {\n",
       "        vertical-align: top;\n",
       "    }\n",
       "\n",
       "    .dataframe thead th {\n",
       "        text-align: right;\n",
       "    }\n",
       "</style>\n",
       "<table border=\"1\" class=\"dataframe\">\n",
       "  <thead>\n",
       "    <tr style=\"text-align: right;\">\n",
       "      <th></th>\n",
       "      <th>id</th>\n",
       "      <th>synopsis</th>\n",
       "      <th>rating</th>\n",
       "      <th>genre</th>\n",
       "      <th>director</th>\n",
       "      <th>writer</th>\n",
       "      <th>theater_date</th>\n",
       "      <th>dvd_date</th>\n",
       "      <th>runtime</th>\n",
       "    </tr>\n",
       "  </thead>\n",
       "  <tbody>\n",
       "    <tr>\n",
       "      <th>0</th>\n",
       "      <td>1</td>\n",
       "      <td>This gritty, fast-paced, and innovative police...</td>\n",
       "      <td>R</td>\n",
       "      <td>Action and Adventure</td>\n",
       "      <td>William Friedkin</td>\n",
       "      <td>Ernest Tidyman</td>\n",
       "      <td>Oct 9, 1971</td>\n",
       "      <td>Sep 25, 2001</td>\n",
       "      <td>104 minutes</td>\n",
       "    </tr>\n",
       "    <tr>\n",
       "      <th>0</th>\n",
       "      <td>1</td>\n",
       "      <td>This gritty, fast-paced, and innovative police...</td>\n",
       "      <td>R</td>\n",
       "      <td>Classics</td>\n",
       "      <td>William Friedkin</td>\n",
       "      <td>Ernest Tidyman</td>\n",
       "      <td>Oct 9, 1971</td>\n",
       "      <td>Sep 25, 2001</td>\n",
       "      <td>104 minutes</td>\n",
       "    </tr>\n",
       "    <tr>\n",
       "      <th>0</th>\n",
       "      <td>1</td>\n",
       "      <td>This gritty, fast-paced, and innovative police...</td>\n",
       "      <td>R</td>\n",
       "      <td>Drama</td>\n",
       "      <td>William Friedkin</td>\n",
       "      <td>Ernest Tidyman</td>\n",
       "      <td>Oct 9, 1971</td>\n",
       "      <td>Sep 25, 2001</td>\n",
       "      <td>104 minutes</td>\n",
       "    </tr>\n",
       "    <tr>\n",
       "      <th>1</th>\n",
       "      <td>3</td>\n",
       "      <td>New York City, not-too-distant-future: Eric Pa...</td>\n",
       "      <td>R</td>\n",
       "      <td>Drama</td>\n",
       "      <td>David Cronenberg</td>\n",
       "      <td>David Cronenberg</td>\n",
       "      <td>Aug 17, 2012</td>\n",
       "      <td>Jan 1, 2013</td>\n",
       "      <td>108 minutes</td>\n",
       "    </tr>\n",
       "    <tr>\n",
       "      <th>1</th>\n",
       "      <td>3</td>\n",
       "      <td>New York City, not-too-distant-future: Eric Pa...</td>\n",
       "      <td>R</td>\n",
       "      <td>Drama</td>\n",
       "      <td>David Cronenberg</td>\n",
       "      <td>Don DeLillo</td>\n",
       "      <td>Aug 17, 2012</td>\n",
       "      <td>Jan 1, 2013</td>\n",
       "      <td>108 minutes</td>\n",
       "    </tr>\n",
       "  </tbody>\n",
       "</table>\n",
       "</div>"
      ],
      "text/plain": [
       "   id                                           synopsis rating   \n",
       "0   1  This gritty, fast-paced, and innovative police...      R  \\\n",
       "0   1  This gritty, fast-paced, and innovative police...      R   \n",
       "0   1  This gritty, fast-paced, and innovative police...      R   \n",
       "1   3  New York City, not-too-distant-future: Eric Pa...      R   \n",
       "1   3  New York City, not-too-distant-future: Eric Pa...      R   \n",
       "\n",
       "                  genre          director            writer  theater_date   \n",
       "0  Action and Adventure  William Friedkin    Ernest Tidyman   Oct 9, 1971  \\\n",
       "0              Classics  William Friedkin    Ernest Tidyman   Oct 9, 1971   \n",
       "0                 Drama  William Friedkin    Ernest Tidyman   Oct 9, 1971   \n",
       "1                 Drama  David Cronenberg  David Cronenberg  Aug 17, 2012   \n",
       "1                 Drama  David Cronenberg       Don DeLillo  Aug 17, 2012   \n",
       "\n",
       "       dvd_date      runtime  \n",
       "0  Sep 25, 2001  104 minutes  \n",
       "0  Sep 25, 2001  104 minutes  \n",
       "0  Sep 25, 2001  104 minutes  \n",
       "1   Jan 1, 2013  108 minutes  \n",
       "1   Jan 1, 2013  108 minutes  "
      ]
     },
     "execution_count": 108,
     "metadata": {},
     "output_type": "execute_result"
    }
   ],
   "source": [
    "df_rt_movie.head()"
   ]
  },
  {
   "cell_type": "markdown",
   "id": "fe57b542",
   "metadata": {},
   "source": [
    "#### df_rt_reviews"
   ]
  },
  {
   "cell_type": "markdown",
   "id": "3e016c83",
   "metadata": {},
   "source": [
    "No structural issues or other cleaning procedures needed"
   ]
  },
  {
   "cell_type": "markdown",
   "id": "243febe0",
   "metadata": {},
   "source": [
    "#### merged_df_imdb"
   ]
  },
  {
   "cell_type": "code",
   "execution_count": 111,
   "id": "5d56d2e3",
   "metadata": {
    "scrolled": true
   },
   "outputs": [
    {
     "data": {
      "text/html": [
       "<div>\n",
       "<style scoped>\n",
       "    .dataframe tbody tr th:only-of-type {\n",
       "        vertical-align: middle;\n",
       "    }\n",
       "\n",
       "    .dataframe tbody tr th {\n",
       "        vertical-align: top;\n",
       "    }\n",
       "\n",
       "    .dataframe thead th {\n",
       "        text-align: right;\n",
       "    }\n",
       "</style>\n",
       "<table border=\"1\" class=\"dataframe\">\n",
       "  <thead>\n",
       "    <tr style=\"text-align: right;\">\n",
       "      <th></th>\n",
       "      <th>tconst</th>\n",
       "      <th>primary_title</th>\n",
       "      <th>original_title</th>\n",
       "      <th>start_year</th>\n",
       "      <th>runtime_minutes</th>\n",
       "      <th>genres</th>\n",
       "      <th>averagerating</th>\n",
       "      <th>numvotes</th>\n",
       "      <th>directors</th>\n",
       "      <th>writers</th>\n",
       "    </tr>\n",
       "  </thead>\n",
       "  <tbody>\n",
       "    <tr>\n",
       "      <th>0</th>\n",
       "      <td>tt0063540</td>\n",
       "      <td>Sunghursh</td>\n",
       "      <td>Sunghursh</td>\n",
       "      <td>2013</td>\n",
       "      <td>175.0</td>\n",
       "      <td>Action,Crime,Drama</td>\n",
       "      <td>7.0</td>\n",
       "      <td>77</td>\n",
       "      <td>nm0712540</td>\n",
       "      <td>nm0023551,nm1194313,nm0347899,nm1391276</td>\n",
       "    </tr>\n",
       "    <tr>\n",
       "      <th>2</th>\n",
       "      <td>tt0069049</td>\n",
       "      <td>The Other Side of the Wind</td>\n",
       "      <td>The Other Side of the Wind</td>\n",
       "      <td>2018</td>\n",
       "      <td>122.0</td>\n",
       "      <td>Drama</td>\n",
       "      <td>6.9</td>\n",
       "      <td>4517</td>\n",
       "      <td>nm0000080</td>\n",
       "      <td>nm0000080,nm0462648</td>\n",
       "    </tr>\n",
       "    <tr>\n",
       "      <th>4</th>\n",
       "      <td>tt0100275</td>\n",
       "      <td>The Wandering Soap Opera</td>\n",
       "      <td>La Telenovela Errante</td>\n",
       "      <td>2017</td>\n",
       "      <td>80.0</td>\n",
       "      <td>Comedy,Drama,Fantasy</td>\n",
       "      <td>6.5</td>\n",
       "      <td>119</td>\n",
       "      <td>nm0765384,nm0749914</td>\n",
       "      <td>nm1360635,nm0749914</td>\n",
       "    </tr>\n",
       "    <tr>\n",
       "      <th>6</th>\n",
       "      <td>tt0137204</td>\n",
       "      <td>Joe Finds Grace</td>\n",
       "      <td>Joe Finds Grace</td>\n",
       "      <td>2017</td>\n",
       "      <td>83.0</td>\n",
       "      <td>Adventure,Animation,Comedy</td>\n",
       "      <td>8.1</td>\n",
       "      <td>263</td>\n",
       "      <td>nm0365480</td>\n",
       "      <td>nm0365480</td>\n",
       "    </tr>\n",
       "    <tr>\n",
       "      <th>7</th>\n",
       "      <td>tt0146592</td>\n",
       "      <td>Pál Adrienn</td>\n",
       "      <td>Pál Adrienn</td>\n",
       "      <td>2010</td>\n",
       "      <td>136.0</td>\n",
       "      <td>Drama</td>\n",
       "      <td>6.8</td>\n",
       "      <td>451</td>\n",
       "      <td>nm1030585</td>\n",
       "      <td>nm1030585,nm1921430</td>\n",
       "    </tr>\n",
       "  </tbody>\n",
       "</table>\n",
       "</div>"
      ],
      "text/plain": [
       "      tconst               primary_title              original_title   \n",
       "0  tt0063540                   Sunghursh                   Sunghursh  \\\n",
       "2  tt0069049  The Other Side of the Wind  The Other Side of the Wind   \n",
       "4  tt0100275    The Wandering Soap Opera       La Telenovela Errante   \n",
       "6  tt0137204             Joe Finds Grace             Joe Finds Grace   \n",
       "7  tt0146592                 Pál Adrienn                 Pál Adrienn   \n",
       "\n",
       "   start_year  runtime_minutes                      genres  averagerating   \n",
       "0        2013            175.0          Action,Crime,Drama            7.0  \\\n",
       "2        2018            122.0                       Drama            6.9   \n",
       "4        2017             80.0        Comedy,Drama,Fantasy            6.5   \n",
       "6        2017             83.0  Adventure,Animation,Comedy            8.1   \n",
       "7        2010            136.0                       Drama            6.8   \n",
       "\n",
       "   numvotes            directors                                  writers  \n",
       "0        77            nm0712540  nm0023551,nm1194313,nm0347899,nm1391276  \n",
       "2      4517            nm0000080                      nm0000080,nm0462648  \n",
       "4       119  nm0765384,nm0749914                      nm1360635,nm0749914  \n",
       "6       263            nm0365480                                nm0365480  \n",
       "7       451            nm1030585                      nm1030585,nm1921430  "
      ]
     },
     "execution_count": 111,
     "metadata": {},
     "output_type": "execute_result"
    }
   ],
   "source": [
    "merged_df_imdb.head()"
   ]
  },
  {
   "cell_type": "code",
   "execution_count": 112,
   "id": "26052dce",
   "metadata": {},
   "outputs": [],
   "source": [
    "# Remove structural issue i.e.genre column separated by comma\n",
    "merged_df_imdb = merged_df_imdb.assign(genres=merged_df_imdb.genres.str.split(',')).explode('genres')"
   ]
  },
  {
   "cell_type": "code",
   "execution_count": 113,
   "id": "112d534d",
   "metadata": {},
   "outputs": [],
   "source": [
    "# Remove structural issue i.e.directors column separated by comma\n",
    "merged_df_imdb = merged_df_imdb.assign(directors=merged_df_imdb.directors.str.split(',')).explode('directors')"
   ]
  },
  {
   "cell_type": "code",
   "execution_count": 114,
   "id": "a3e51978",
   "metadata": {},
   "outputs": [],
   "source": [
    "# Remove structural issue i.e.writers column separated by comma\n",
    "merged_df_imdb = merged_df_imdb.assign(writers=merged_df_imdb.writers.str.split(',')).explode('writers')"
   ]
  },
  {
   "cell_type": "code",
   "execution_count": 115,
   "id": "1f90afc3",
   "metadata": {},
   "outputs": [
    {
     "data": {
      "text/html": [
       "<div>\n",
       "<style scoped>\n",
       "    .dataframe tbody tr th:only-of-type {\n",
       "        vertical-align: middle;\n",
       "    }\n",
       "\n",
       "    .dataframe tbody tr th {\n",
       "        vertical-align: top;\n",
       "    }\n",
       "\n",
       "    .dataframe thead th {\n",
       "        text-align: right;\n",
       "    }\n",
       "</style>\n",
       "<table border=\"1\" class=\"dataframe\">\n",
       "  <thead>\n",
       "    <tr style=\"text-align: right;\">\n",
       "      <th></th>\n",
       "      <th>tconst</th>\n",
       "      <th>primary_title</th>\n",
       "      <th>original_title</th>\n",
       "      <th>start_year</th>\n",
       "      <th>runtime_minutes</th>\n",
       "      <th>genres</th>\n",
       "      <th>averagerating</th>\n",
       "      <th>numvotes</th>\n",
       "      <th>directors</th>\n",
       "      <th>writers</th>\n",
       "    </tr>\n",
       "  </thead>\n",
       "  <tbody>\n",
       "    <tr>\n",
       "      <th>0</th>\n",
       "      <td>tt0063540</td>\n",
       "      <td>Sunghursh</td>\n",
       "      <td>Sunghursh</td>\n",
       "      <td>2013</td>\n",
       "      <td>175.0</td>\n",
       "      <td>Action</td>\n",
       "      <td>7.0</td>\n",
       "      <td>77</td>\n",
       "      <td>nm0712540</td>\n",
       "      <td>nm0023551</td>\n",
       "    </tr>\n",
       "    <tr>\n",
       "      <th>0</th>\n",
       "      <td>tt0063540</td>\n",
       "      <td>Sunghursh</td>\n",
       "      <td>Sunghursh</td>\n",
       "      <td>2013</td>\n",
       "      <td>175.0</td>\n",
       "      <td>Action</td>\n",
       "      <td>7.0</td>\n",
       "      <td>77</td>\n",
       "      <td>nm0712540</td>\n",
       "      <td>nm1194313</td>\n",
       "    </tr>\n",
       "    <tr>\n",
       "      <th>0</th>\n",
       "      <td>tt0063540</td>\n",
       "      <td>Sunghursh</td>\n",
       "      <td>Sunghursh</td>\n",
       "      <td>2013</td>\n",
       "      <td>175.0</td>\n",
       "      <td>Action</td>\n",
       "      <td>7.0</td>\n",
       "      <td>77</td>\n",
       "      <td>nm0712540</td>\n",
       "      <td>nm0347899</td>\n",
       "    </tr>\n",
       "    <tr>\n",
       "      <th>0</th>\n",
       "      <td>tt0063540</td>\n",
       "      <td>Sunghursh</td>\n",
       "      <td>Sunghursh</td>\n",
       "      <td>2013</td>\n",
       "      <td>175.0</td>\n",
       "      <td>Action</td>\n",
       "      <td>7.0</td>\n",
       "      <td>77</td>\n",
       "      <td>nm0712540</td>\n",
       "      <td>nm1391276</td>\n",
       "    </tr>\n",
       "    <tr>\n",
       "      <th>0</th>\n",
       "      <td>tt0063540</td>\n",
       "      <td>Sunghursh</td>\n",
       "      <td>Sunghursh</td>\n",
       "      <td>2013</td>\n",
       "      <td>175.0</td>\n",
       "      <td>Crime</td>\n",
       "      <td>7.0</td>\n",
       "      <td>77</td>\n",
       "      <td>nm0712540</td>\n",
       "      <td>nm0023551</td>\n",
       "    </tr>\n",
       "  </tbody>\n",
       "</table>\n",
       "</div>"
      ],
      "text/plain": [
       "      tconst primary_title original_title  start_year  runtime_minutes   \n",
       "0  tt0063540     Sunghursh      Sunghursh        2013            175.0  \\\n",
       "0  tt0063540     Sunghursh      Sunghursh        2013            175.0   \n",
       "0  tt0063540     Sunghursh      Sunghursh        2013            175.0   \n",
       "0  tt0063540     Sunghursh      Sunghursh        2013            175.0   \n",
       "0  tt0063540     Sunghursh      Sunghursh        2013            175.0   \n",
       "\n",
       "   genres  averagerating  numvotes  directors    writers  \n",
       "0  Action            7.0        77  nm0712540  nm0023551  \n",
       "0  Action            7.0        77  nm0712540  nm1194313  \n",
       "0  Action            7.0        77  nm0712540  nm0347899  \n",
       "0  Action            7.0        77  nm0712540  nm1391276  \n",
       "0   Crime            7.0        77  nm0712540  nm0023551  "
      ]
     },
     "execution_count": 115,
     "metadata": {},
     "output_type": "execute_result"
    }
   ],
   "source": [
    "merged_df_imdb.head()"
   ]
  },
  {
   "cell_type": "markdown",
   "id": "55662336",
   "metadata": {},
   "source": [
    "#### 5.4 Merging various files"
   ]
  },
  {
   "cell_type": "markdown",
   "id": "1c1243ca",
   "metadata": {},
   "source": [
    "#### df_rt_movie and df_rt_reviews"
   ]
  },
  {
   "cell_type": "code",
   "execution_count": 116,
   "id": "5eb7d402",
   "metadata": {},
   "outputs": [
    {
     "data": {
      "text/html": [
       "<div>\n",
       "<style scoped>\n",
       "    .dataframe tbody tr th:only-of-type {\n",
       "        vertical-align: middle;\n",
       "    }\n",
       "\n",
       "    .dataframe tbody tr th {\n",
       "        vertical-align: top;\n",
       "    }\n",
       "\n",
       "    .dataframe thead th {\n",
       "        text-align: right;\n",
       "    }\n",
       "</style>\n",
       "<table border=\"1\" class=\"dataframe\">\n",
       "  <thead>\n",
       "    <tr style=\"text-align: right;\">\n",
       "      <th></th>\n",
       "      <th>id</th>\n",
       "      <th>review</th>\n",
       "      <th>rating_x</th>\n",
       "      <th>fresh</th>\n",
       "      <th>critic</th>\n",
       "      <th>top_critic</th>\n",
       "      <th>publisher</th>\n",
       "      <th>date</th>\n",
       "      <th>synopsis</th>\n",
       "      <th>rating_y</th>\n",
       "      <th>genre</th>\n",
       "      <th>director</th>\n",
       "      <th>writer</th>\n",
       "      <th>theater_date</th>\n",
       "      <th>dvd_date</th>\n",
       "      <th>runtime</th>\n",
       "    </tr>\n",
       "  </thead>\n",
       "  <tbody>\n",
       "    <tr>\n",
       "      <th>97641</th>\n",
       "      <td>1999</td>\n",
       "      <td>Old baseball wisdom: The best teams win with s...</td>\n",
       "      <td>B+</td>\n",
       "      <td>fresh</td>\n",
       "      <td>Bob Cannon</td>\n",
       "      <td>1</td>\n",
       "      <td>Entertainment Weekly</td>\n",
       "      <td>April 1, 1993</td>\n",
       "      <td>The Sandlot is a coming-of-age story about a g...</td>\n",
       "      <td>PG</td>\n",
       "      <td>Drama</td>\n",
       "      <td>David Mickey Evans</td>\n",
       "      <td>Robert Gunter</td>\n",
       "      <td>Apr 1, 1993</td>\n",
       "      <td>Jan 29, 2002</td>\n",
       "      <td>101 minutes</td>\n",
       "    </tr>\n",
       "    <tr>\n",
       "      <th>97642</th>\n",
       "      <td>1999</td>\n",
       "      <td>Old baseball wisdom: The best teams win with s...</td>\n",
       "      <td>B+</td>\n",
       "      <td>fresh</td>\n",
       "      <td>Bob Cannon</td>\n",
       "      <td>1</td>\n",
       "      <td>Entertainment Weekly</td>\n",
       "      <td>April 1, 1993</td>\n",
       "      <td>The Sandlot is a coming-of-age story about a g...</td>\n",
       "      <td>PG</td>\n",
       "      <td>Kids and Family</td>\n",
       "      <td>David Mickey Evans</td>\n",
       "      <td>David Mickey Evans</td>\n",
       "      <td>Apr 1, 1993</td>\n",
       "      <td>Jan 29, 2002</td>\n",
       "      <td>101 minutes</td>\n",
       "    </tr>\n",
       "    <tr>\n",
       "      <th>97643</th>\n",
       "      <td>1999</td>\n",
       "      <td>Old baseball wisdom: The best teams win with s...</td>\n",
       "      <td>B+</td>\n",
       "      <td>fresh</td>\n",
       "      <td>Bob Cannon</td>\n",
       "      <td>1</td>\n",
       "      <td>Entertainment Weekly</td>\n",
       "      <td>April 1, 1993</td>\n",
       "      <td>The Sandlot is a coming-of-age story about a g...</td>\n",
       "      <td>PG</td>\n",
       "      <td>Kids and Family</td>\n",
       "      <td>David Mickey Evans</td>\n",
       "      <td>Robert Gunter</td>\n",
       "      <td>Apr 1, 1993</td>\n",
       "      <td>Jan 29, 2002</td>\n",
       "      <td>101 minutes</td>\n",
       "    </tr>\n",
       "    <tr>\n",
       "      <th>97644</th>\n",
       "      <td>1999</td>\n",
       "      <td>Old baseball wisdom: The best teams win with s...</td>\n",
       "      <td>B+</td>\n",
       "      <td>fresh</td>\n",
       "      <td>Bob Cannon</td>\n",
       "      <td>1</td>\n",
       "      <td>Entertainment Weekly</td>\n",
       "      <td>April 1, 1993</td>\n",
       "      <td>The Sandlot is a coming-of-age story about a g...</td>\n",
       "      <td>PG</td>\n",
       "      <td>Sports and Fitness</td>\n",
       "      <td>David Mickey Evans</td>\n",
       "      <td>David Mickey Evans</td>\n",
       "      <td>Apr 1, 1993</td>\n",
       "      <td>Jan 29, 2002</td>\n",
       "      <td>101 minutes</td>\n",
       "    </tr>\n",
       "    <tr>\n",
       "      <th>97645</th>\n",
       "      <td>1999</td>\n",
       "      <td>Old baseball wisdom: The best teams win with s...</td>\n",
       "      <td>B+</td>\n",
       "      <td>fresh</td>\n",
       "      <td>Bob Cannon</td>\n",
       "      <td>1</td>\n",
       "      <td>Entertainment Weekly</td>\n",
       "      <td>April 1, 1993</td>\n",
       "      <td>The Sandlot is a coming-of-age story about a g...</td>\n",
       "      <td>PG</td>\n",
       "      <td>Sports and Fitness</td>\n",
       "      <td>David Mickey Evans</td>\n",
       "      <td>Robert Gunter</td>\n",
       "      <td>Apr 1, 1993</td>\n",
       "      <td>Jan 29, 2002</td>\n",
       "      <td>101 minutes</td>\n",
       "    </tr>\n",
       "  </tbody>\n",
       "</table>\n",
       "</div>"
      ],
      "text/plain": [
       "         id                                             review rating_x   \n",
       "97641  1999  Old baseball wisdom: The best teams win with s...       B+  \\\n",
       "97642  1999  Old baseball wisdom: The best teams win with s...       B+   \n",
       "97643  1999  Old baseball wisdom: The best teams win with s...       B+   \n",
       "97644  1999  Old baseball wisdom: The best teams win with s...       B+   \n",
       "97645  1999  Old baseball wisdom: The best teams win with s...       B+   \n",
       "\n",
       "       fresh      critic  top_critic             publisher           date   \n",
       "97641  fresh  Bob Cannon           1  Entertainment Weekly  April 1, 1993  \\\n",
       "97642  fresh  Bob Cannon           1  Entertainment Weekly  April 1, 1993   \n",
       "97643  fresh  Bob Cannon           1  Entertainment Weekly  April 1, 1993   \n",
       "97644  fresh  Bob Cannon           1  Entertainment Weekly  April 1, 1993   \n",
       "97645  fresh  Bob Cannon           1  Entertainment Weekly  April 1, 1993   \n",
       "\n",
       "                                                synopsis rating_y   \n",
       "97641  The Sandlot is a coming-of-age story about a g...       PG  \\\n",
       "97642  The Sandlot is a coming-of-age story about a g...       PG   \n",
       "97643  The Sandlot is a coming-of-age story about a g...       PG   \n",
       "97644  The Sandlot is a coming-of-age story about a g...       PG   \n",
       "97645  The Sandlot is a coming-of-age story about a g...       PG   \n",
       "\n",
       "                    genre            director              writer   \n",
       "97641               Drama  David Mickey Evans       Robert Gunter  \\\n",
       "97642     Kids and Family  David Mickey Evans  David Mickey Evans   \n",
       "97643     Kids and Family  David Mickey Evans       Robert Gunter   \n",
       "97644  Sports and Fitness  David Mickey Evans  David Mickey Evans   \n",
       "97645  Sports and Fitness  David Mickey Evans       Robert Gunter   \n",
       "\n",
       "      theater_date      dvd_date      runtime  \n",
       "97641  Apr 1, 1993  Jan 29, 2002  101 minutes  \n",
       "97642  Apr 1, 1993  Jan 29, 2002  101 minutes  \n",
       "97643  Apr 1, 1993  Jan 29, 2002  101 minutes  \n",
       "97644  Apr 1, 1993  Jan 29, 2002  101 minutes  \n",
       "97645  Apr 1, 1993  Jan 29, 2002  101 minutes  "
      ]
     },
     "execution_count": 116,
     "metadata": {},
     "output_type": "execute_result"
    }
   ],
   "source": [
    "# Merging df_rt_reviews and df_rt_movie \n",
    "merged_df_rt = pd.merge(df_rt_reviews, df_rt_movie, on='id')\n",
    "merged_df_rt.tail()"
   ]
  },
  {
   "cell_type": "markdown",
   "id": "6c0d3be3",
   "metadata": {},
   "source": [
    "## 6.0 Performing Exploratory analysis"
   ]
  },
  {
   "cell_type": "markdown",
   "id": "1e879221",
   "metadata": {},
   "source": [
    "As established in Section 1.3, the key factors of movie success are: Story & Content, Cast & Crew, Marketing & Distribution, Critical Perception and Genre & Audience Appeal.\n",
    "\n",
    "From the cleaned datasets, we can be able to generate the analysis below:\n",
    "1. The highest grossing studios\n",
    "2. The highest rated genres \n",
    "3. Best perfoming directors (in relation to movie reviews)"
   ]
  },
  {
   "cell_type": "markdown",
   "id": "416256c3",
   "metadata": {},
   "source": [
    "### 6.1 Highest Grossing Studios"
   ]
  },
  {
   "cell_type": "code",
   "execution_count": 131,
   "id": "685bb15f",
   "metadata": {},
   "outputs": [],
   "source": [
    "#setting the plot style\n",
    "plt.style.use('ggplot')"
   ]
  },
  {
   "cell_type": "code",
   "execution_count": 132,
   "id": "39493d87",
   "metadata": {},
   "outputs": [],
   "source": [
    "# Using df_bom_movie gross information\n",
    "#Establish a new column with total gross revenues\n",
    "df_bom_movie['total_gross'] = df_bom_movie.domestic_gross + df_bom_movie.foreign_gross"
   ]
  },
  {
   "cell_type": "code",
   "execution_count": 133,
   "id": "47f4f3da",
   "metadata": {},
   "outputs": [],
   "source": [
    "#Group total_gross by studio, sum up and sort values to establish highest to lowest perfoming studios\n",
    "bom_studios = df_bom_movie.groupby(['studio'])['total_gross'].sum().to_frame()\n",
    "bom_studios = bom_studios.sort_values('total_gross',ascending = False)[:10]"
   ]
  },
  {
   "cell_type": "code",
   "execution_count": 130,
   "id": "3a01c5a9",
   "metadata": {},
   "outputs": [
    {
     "ename": "FileNotFoundError",
     "evalue": "[Errno 2] No such file or directory: 'Images/studios.png'",
     "output_type": "error",
     "traceback": [
      "\u001b[1;31m---------------------------------------------------------------------------\u001b[0m",
      "\u001b[1;31mFileNotFoundError\u001b[0m                         Traceback (most recent call last)",
      "Cell \u001b[1;32mIn[130], line 13\u001b[0m\n\u001b[0;32m     11\u001b[0m ax\u001b[38;5;241m.\u001b[39mset_xlabel(x_label,fontsize\u001b[38;5;241m=\u001b[39m\u001b[38;5;241m15\u001b[39m)\n\u001b[0;32m     12\u001b[0m plt\u001b[38;5;241m.\u001b[39mxticks(rotation \u001b[38;5;241m=\u001b[39m \u001b[38;5;241m60\u001b[39m,fontsize\u001b[38;5;241m=\u001b[39m\u001b[38;5;241m15\u001b[39m)\n\u001b[1;32m---> 13\u001b[0m \u001b[43mfig\u001b[49m\u001b[38;5;241;43m.\u001b[39;49m\u001b[43msavefig\u001b[49m\u001b[43m(\u001b[49m\u001b[38;5;124;43m'\u001b[39;49m\u001b[38;5;124;43mImages/studios.png\u001b[39;49m\u001b[38;5;124;43m'\u001b[39;49m\u001b[43m)\u001b[49m;\n",
      "File \u001b[1;32m~\\anaconda3\\envs\\learn-env\\lib\\site-packages\\matplotlib\\figure.py:3343\u001b[0m, in \u001b[0;36mFigure.savefig\u001b[1;34m(self, fname, transparent, **kwargs)\u001b[0m\n\u001b[0;32m   3339\u001b[0m     \u001b[38;5;28;01mfor\u001b[39;00m ax \u001b[38;5;129;01min\u001b[39;00m \u001b[38;5;28mself\u001b[39m\u001b[38;5;241m.\u001b[39maxes:\n\u001b[0;32m   3340\u001b[0m         stack\u001b[38;5;241m.\u001b[39menter_context(\n\u001b[0;32m   3341\u001b[0m             ax\u001b[38;5;241m.\u001b[39mpatch\u001b[38;5;241m.\u001b[39m_cm_set(facecolor\u001b[38;5;241m=\u001b[39m\u001b[38;5;124m'\u001b[39m\u001b[38;5;124mnone\u001b[39m\u001b[38;5;124m'\u001b[39m, edgecolor\u001b[38;5;241m=\u001b[39m\u001b[38;5;124m'\u001b[39m\u001b[38;5;124mnone\u001b[39m\u001b[38;5;124m'\u001b[39m))\n\u001b[1;32m-> 3343\u001b[0m \u001b[38;5;28mself\u001b[39m\u001b[38;5;241m.\u001b[39mcanvas\u001b[38;5;241m.\u001b[39mprint_figure(fname, \u001b[38;5;241m*\u001b[39m\u001b[38;5;241m*\u001b[39mkwargs)\n",
      "File \u001b[1;32m~\\anaconda3\\envs\\learn-env\\lib\\site-packages\\matplotlib\\backend_bases.py:2366\u001b[0m, in \u001b[0;36mFigureCanvasBase.print_figure\u001b[1;34m(self, filename, dpi, facecolor, edgecolor, orientation, format, bbox_inches, pad_inches, bbox_extra_artists, backend, **kwargs)\u001b[0m\n\u001b[0;32m   2362\u001b[0m \u001b[38;5;28;01mtry\u001b[39;00m:\n\u001b[0;32m   2363\u001b[0m     \u001b[38;5;66;03m# _get_renderer may change the figure dpi (as vector formats\u001b[39;00m\n\u001b[0;32m   2364\u001b[0m     \u001b[38;5;66;03m# force the figure dpi to 72), so we need to set it again here.\u001b[39;00m\n\u001b[0;32m   2365\u001b[0m     \u001b[38;5;28;01mwith\u001b[39;00m cbook\u001b[38;5;241m.\u001b[39m_setattr_cm(\u001b[38;5;28mself\u001b[39m\u001b[38;5;241m.\u001b[39mfigure, dpi\u001b[38;5;241m=\u001b[39mdpi):\n\u001b[1;32m-> 2366\u001b[0m         result \u001b[38;5;241m=\u001b[39m print_method(\n\u001b[0;32m   2367\u001b[0m             filename,\n\u001b[0;32m   2368\u001b[0m             facecolor\u001b[38;5;241m=\u001b[39mfacecolor,\n\u001b[0;32m   2369\u001b[0m             edgecolor\u001b[38;5;241m=\u001b[39medgecolor,\n\u001b[0;32m   2370\u001b[0m             orientation\u001b[38;5;241m=\u001b[39morientation,\n\u001b[0;32m   2371\u001b[0m             bbox_inches_restore\u001b[38;5;241m=\u001b[39m_bbox_inches_restore,\n\u001b[0;32m   2372\u001b[0m             \u001b[38;5;241m*\u001b[39m\u001b[38;5;241m*\u001b[39mkwargs)\n\u001b[0;32m   2373\u001b[0m \u001b[38;5;28;01mfinally\u001b[39;00m:\n\u001b[0;32m   2374\u001b[0m     \u001b[38;5;28;01mif\u001b[39;00m bbox_inches \u001b[38;5;129;01mand\u001b[39;00m restore_bbox:\n",
      "File \u001b[1;32m~\\anaconda3\\envs\\learn-env\\lib\\site-packages\\matplotlib\\backend_bases.py:2232\u001b[0m, in \u001b[0;36mFigureCanvasBase._switch_canvas_and_return_print_method.<locals>.<lambda>\u001b[1;34m(*args, **kwargs)\u001b[0m\n\u001b[0;32m   2228\u001b[0m     optional_kws \u001b[38;5;241m=\u001b[39m {  \u001b[38;5;66;03m# Passed by print_figure for other renderers.\u001b[39;00m\n\u001b[0;32m   2229\u001b[0m         \u001b[38;5;124m\"\u001b[39m\u001b[38;5;124mdpi\u001b[39m\u001b[38;5;124m\"\u001b[39m, \u001b[38;5;124m\"\u001b[39m\u001b[38;5;124mfacecolor\u001b[39m\u001b[38;5;124m\"\u001b[39m, \u001b[38;5;124m\"\u001b[39m\u001b[38;5;124medgecolor\u001b[39m\u001b[38;5;124m\"\u001b[39m, \u001b[38;5;124m\"\u001b[39m\u001b[38;5;124morientation\u001b[39m\u001b[38;5;124m\"\u001b[39m,\n\u001b[0;32m   2230\u001b[0m         \u001b[38;5;124m\"\u001b[39m\u001b[38;5;124mbbox_inches_restore\u001b[39m\u001b[38;5;124m\"\u001b[39m}\n\u001b[0;32m   2231\u001b[0m     skip \u001b[38;5;241m=\u001b[39m optional_kws \u001b[38;5;241m-\u001b[39m {\u001b[38;5;241m*\u001b[39minspect\u001b[38;5;241m.\u001b[39msignature(meth)\u001b[38;5;241m.\u001b[39mparameters}\n\u001b[1;32m-> 2232\u001b[0m     print_method \u001b[38;5;241m=\u001b[39m functools\u001b[38;5;241m.\u001b[39mwraps(meth)(\u001b[38;5;28;01mlambda\u001b[39;00m \u001b[38;5;241m*\u001b[39margs, \u001b[38;5;241m*\u001b[39m\u001b[38;5;241m*\u001b[39mkwargs: meth(\n\u001b[0;32m   2233\u001b[0m         \u001b[38;5;241m*\u001b[39margs, \u001b[38;5;241m*\u001b[39m\u001b[38;5;241m*\u001b[39m{k: v \u001b[38;5;28;01mfor\u001b[39;00m k, v \u001b[38;5;129;01min\u001b[39;00m kwargs\u001b[38;5;241m.\u001b[39mitems() \u001b[38;5;28;01mif\u001b[39;00m k \u001b[38;5;129;01mnot\u001b[39;00m \u001b[38;5;129;01min\u001b[39;00m skip}))\n\u001b[0;32m   2234\u001b[0m \u001b[38;5;28;01melse\u001b[39;00m:  \u001b[38;5;66;03m# Let third-parties do as they see fit.\u001b[39;00m\n\u001b[0;32m   2235\u001b[0m     print_method \u001b[38;5;241m=\u001b[39m meth\n",
      "File \u001b[1;32m~\\anaconda3\\envs\\learn-env\\lib\\site-packages\\matplotlib\\backends\\backend_agg.py:509\u001b[0m, in \u001b[0;36mFigureCanvasAgg.print_png\u001b[1;34m(self, filename_or_obj, metadata, pil_kwargs)\u001b[0m\n\u001b[0;32m    462\u001b[0m \u001b[38;5;28;01mdef\u001b[39;00m \u001b[38;5;21mprint_png\u001b[39m(\u001b[38;5;28mself\u001b[39m, filename_or_obj, \u001b[38;5;241m*\u001b[39m, metadata\u001b[38;5;241m=\u001b[39m\u001b[38;5;28;01mNone\u001b[39;00m, pil_kwargs\u001b[38;5;241m=\u001b[39m\u001b[38;5;28;01mNone\u001b[39;00m):\n\u001b[0;32m    463\u001b[0m \u001b[38;5;250m    \u001b[39m\u001b[38;5;124;03m\"\"\"\u001b[39;00m\n\u001b[0;32m    464\u001b[0m \u001b[38;5;124;03m    Write the figure to a PNG file.\u001b[39;00m\n\u001b[0;32m    465\u001b[0m \n\u001b[1;32m   (...)\u001b[0m\n\u001b[0;32m    507\u001b[0m \u001b[38;5;124;03m        *metadata*, including the default 'Software' key.\u001b[39;00m\n\u001b[0;32m    508\u001b[0m \u001b[38;5;124;03m    \"\"\"\u001b[39;00m\n\u001b[1;32m--> 509\u001b[0m     \u001b[38;5;28;43mself\u001b[39;49m\u001b[38;5;241;43m.\u001b[39;49m\u001b[43m_print_pil\u001b[49m\u001b[43m(\u001b[49m\u001b[43mfilename_or_obj\u001b[49m\u001b[43m,\u001b[49m\u001b[43m \u001b[49m\u001b[38;5;124;43m\"\u001b[39;49m\u001b[38;5;124;43mpng\u001b[39;49m\u001b[38;5;124;43m\"\u001b[39;49m\u001b[43m,\u001b[49m\u001b[43m \u001b[49m\u001b[43mpil_kwargs\u001b[49m\u001b[43m,\u001b[49m\u001b[43m \u001b[49m\u001b[43mmetadata\u001b[49m\u001b[43m)\u001b[49m\n",
      "File \u001b[1;32m~\\anaconda3\\envs\\learn-env\\lib\\site-packages\\matplotlib\\backends\\backend_agg.py:458\u001b[0m, in \u001b[0;36mFigureCanvasAgg._print_pil\u001b[1;34m(self, filename_or_obj, fmt, pil_kwargs, metadata)\u001b[0m\n\u001b[0;32m    453\u001b[0m \u001b[38;5;250m\u001b[39m\u001b[38;5;124;03m\"\"\"\u001b[39;00m\n\u001b[0;32m    454\u001b[0m \u001b[38;5;124;03mDraw the canvas, then save it using `.image.imsave` (to which\u001b[39;00m\n\u001b[0;32m    455\u001b[0m \u001b[38;5;124;03m*pil_kwargs* and *metadata* are forwarded).\u001b[39;00m\n\u001b[0;32m    456\u001b[0m \u001b[38;5;124;03m\"\"\"\u001b[39;00m\n\u001b[0;32m    457\u001b[0m FigureCanvasAgg\u001b[38;5;241m.\u001b[39mdraw(\u001b[38;5;28mself\u001b[39m)\n\u001b[1;32m--> 458\u001b[0m \u001b[43mmpl\u001b[49m\u001b[38;5;241;43m.\u001b[39;49m\u001b[43mimage\u001b[49m\u001b[38;5;241;43m.\u001b[39;49m\u001b[43mimsave\u001b[49m\u001b[43m(\u001b[49m\n\u001b[0;32m    459\u001b[0m \u001b[43m    \u001b[49m\u001b[43mfilename_or_obj\u001b[49m\u001b[43m,\u001b[49m\u001b[43m \u001b[49m\u001b[38;5;28;43mself\u001b[39;49m\u001b[38;5;241;43m.\u001b[39;49m\u001b[43mbuffer_rgba\u001b[49m\u001b[43m(\u001b[49m\u001b[43m)\u001b[49m\u001b[43m,\u001b[49m\u001b[43m \u001b[49m\u001b[38;5;28;43mformat\u001b[39;49m\u001b[38;5;241;43m=\u001b[39;49m\u001b[43mfmt\u001b[49m\u001b[43m,\u001b[49m\u001b[43m \u001b[49m\u001b[43morigin\u001b[49m\u001b[38;5;241;43m=\u001b[39;49m\u001b[38;5;124;43m\"\u001b[39;49m\u001b[38;5;124;43mupper\u001b[39;49m\u001b[38;5;124;43m\"\u001b[39;49m\u001b[43m,\u001b[49m\n\u001b[0;32m    460\u001b[0m \u001b[43m    \u001b[49m\u001b[43mdpi\u001b[49m\u001b[38;5;241;43m=\u001b[39;49m\u001b[38;5;28;43mself\u001b[39;49m\u001b[38;5;241;43m.\u001b[39;49m\u001b[43mfigure\u001b[49m\u001b[38;5;241;43m.\u001b[39;49m\u001b[43mdpi\u001b[49m\u001b[43m,\u001b[49m\u001b[43m \u001b[49m\u001b[43mmetadata\u001b[49m\u001b[38;5;241;43m=\u001b[39;49m\u001b[43mmetadata\u001b[49m\u001b[43m,\u001b[49m\u001b[43m \u001b[49m\u001b[43mpil_kwargs\u001b[49m\u001b[38;5;241;43m=\u001b[39;49m\u001b[43mpil_kwargs\u001b[49m\u001b[43m)\u001b[49m\n",
      "File \u001b[1;32m~\\anaconda3\\envs\\learn-env\\lib\\site-packages\\matplotlib\\image.py:1689\u001b[0m, in \u001b[0;36mimsave\u001b[1;34m(fname, arr, vmin, vmax, cmap, format, origin, dpi, metadata, pil_kwargs)\u001b[0m\n\u001b[0;32m   1687\u001b[0m pil_kwargs\u001b[38;5;241m.\u001b[39msetdefault(\u001b[38;5;124m\"\u001b[39m\u001b[38;5;124mformat\u001b[39m\u001b[38;5;124m\"\u001b[39m, \u001b[38;5;28mformat\u001b[39m)\n\u001b[0;32m   1688\u001b[0m pil_kwargs\u001b[38;5;241m.\u001b[39msetdefault(\u001b[38;5;124m\"\u001b[39m\u001b[38;5;124mdpi\u001b[39m\u001b[38;5;124m\"\u001b[39m, (dpi, dpi))\n\u001b[1;32m-> 1689\u001b[0m image\u001b[38;5;241m.\u001b[39msave(fname, \u001b[38;5;241m*\u001b[39m\u001b[38;5;241m*\u001b[39mpil_kwargs)\n",
      "File \u001b[1;32m~\\anaconda3\\envs\\learn-env\\lib\\site-packages\\PIL\\Image.py:2428\u001b[0m, in \u001b[0;36mImage.save\u001b[1;34m(self, fp, format, **params)\u001b[0m\n\u001b[0;32m   2426\u001b[0m         fp \u001b[38;5;241m=\u001b[39m builtins\u001b[38;5;241m.\u001b[39mopen(filename, \u001b[38;5;124m\"\u001b[39m\u001b[38;5;124mr+b\u001b[39m\u001b[38;5;124m\"\u001b[39m)\n\u001b[0;32m   2427\u001b[0m     \u001b[38;5;28;01melse\u001b[39;00m:\n\u001b[1;32m-> 2428\u001b[0m         fp \u001b[38;5;241m=\u001b[39m \u001b[43mbuiltins\u001b[49m\u001b[38;5;241;43m.\u001b[39;49m\u001b[43mopen\u001b[49m\u001b[43m(\u001b[49m\u001b[43mfilename\u001b[49m\u001b[43m,\u001b[49m\u001b[43m \u001b[49m\u001b[38;5;124;43m\"\u001b[39;49m\u001b[38;5;124;43mw+b\u001b[39;49m\u001b[38;5;124;43m\"\u001b[39;49m\u001b[43m)\u001b[49m\n\u001b[0;32m   2430\u001b[0m \u001b[38;5;28;01mtry\u001b[39;00m:\n\u001b[0;32m   2431\u001b[0m     save_handler(\u001b[38;5;28mself\u001b[39m, fp, filename)\n",
      "\u001b[1;31mFileNotFoundError\u001b[0m: [Errno 2] No such file or directory: 'Images/studios.png'"
     ]
    },
    {
     "data": {
      "image/png": "[encoded data removed]",
      "text/plain": [
       "<Figure size 1500x1000 with 1 Axes>"
      ]
     },
     "metadata": {},
     "output_type": "display_data"
    }
   ],
   "source": [
    "#Plotting a bar graph of highest grossing studios\n",
    "fig,ax = plt.subplots(figsize=(15,10))\n",
    "\n",
    "title = 'Highest Grossing Studios'\n",
    "y_label = 'Total Gross Revenues (USD)'\n",
    "x_label = 'Studio'\n",
    "\n",
    "bom_studios.total_gross.plot(kind='bar')\n",
    "ax.set_title(title,fontsize=15)\n",
    "ax.set_ylabel(y_label,fontsize=15)\n",
    "ax.set_xlabel(x_label,fontsize=15)\n",
    "plt.xticks(rotation = 60,fontsize=15)\n",
    "fig.savefig('Images/studios.png');"
   ]
  },
  {
   "cell_type": "code",
   "execution_count": null,
   "id": "1f4ec3e2",
   "metadata": {},
   "outputs": [],
   "source": []
  }
 ],
 "metadata": {
  "kernelspec": {
   "display_name": "Python 3 (ipykernel)",
   "language": "python",
   "name": "python3"
  },
  "language_info": {
   "codemirror_mode": {
    "name": "ipython",
    "version": 3
   },
   "file_extension": ".py",
   "mimetype": "text/x-python",
   "name": "python",
   "nbconvert_exporter": "python",
   "pygments_lexer": "ipython3",
   "version": "3.10.11"
  }
 },
 "nbformat": 4,
 "nbformat_minor": 5
}
